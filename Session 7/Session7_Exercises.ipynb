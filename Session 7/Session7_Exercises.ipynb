{
 "cells": [
  {
   "cell_type": "markdown",
   "id": "d2454bed",
   "metadata": {},
   "source": [
    "* Brian O'Connell\n",
    "* <span style=\"background-color:#33FFF5\">brr99@pitt.edu</span> \n",
    "---"
   ]
  },
  {
   "cell_type": "markdown",
   "id": "dda6cbf3",
   "metadata": {},
   "source": [
    "# Exercise-1"
   ]
  },
  {
   "cell_type": "code",
   "execution_count": 22,
   "id": "d60fbc37",
   "metadata": {},
   "outputs": [],
   "source": [
    "import pandas as pd\n",
    "import numpy as np\n",
    "import scipy.stats as stats\n",
    "\n",
    "#statsmodels:\n",
    "import statsmodels.api as sm\n",
    "import statsmodels.formula.api as smf\n",
    "import statsmodels.stats.api as sms\n",
    "from statsmodels.compat import lzip\n",
    "from statsmodels.stats.outliers_influence import OLSInfluence\n",
    "from statsmodels.graphics.regressionplots import plot_leverage_resid2\n",
    "\n",
    "#scikit-learn:\n",
    "import sklearn.linear_model as sklm\n",
    "from sklearn import preprocessing\n",
    "from sklearn.model_selection import KFold\n",
    "from sklearn.metrics import mean_squared_error, r2_score\n",
    "from sklearn.model_selection import train_test_split, cross_validate, cross_val_score\n",
    "# for KNN with scikit-learn:\n",
    "from sklearn.neighbors import NearestNeighbors\n",
    "from sklearn.neighbors import KNeighborsClassifier\n",
    "from sklearn.neighbors import KNeighborsRegressor"
   ]
  },
  {
   "cell_type": "code",
   "execution_count": 23,
   "id": "cd66cbcf",
   "metadata": {},
   "outputs": [],
   "source": [
    "# visualization and tuning the aesthetics\n",
    "import sys\n",
    "import matplotlib.pylab as plt\n",
    "import seaborn as sns\n",
    "%matplotlib inline\n",
    "sns.set_style(\"whitegrid\")\n",
    "sns.set_context(\"notebook\", font_scale=1, rc={\"lines.linewidth\": 2,'font.family': [u'times']})\n",
    "plt.style.use('seaborn-whitegrid')\n",
    "plt.rc('text', usetex = False)\n",
    "plt.rc('font', family = 'serif')\n",
    "plt.rc('xtick', labelsize = 10) \n",
    "plt.rc('ytick', labelsize = 10) \n",
    "plt.rc('font', size = 12) \n",
    "plt.rc('figure', figsize = (6, 5))"
   ]
  },
  {
   "cell_type": "code",
   "execution_count": 24,
   "id": "28454c7f",
   "metadata": {},
   "outputs": [],
   "source": [
    "#These are utility tools of the DMBA book. Install the \"dmba\" package first (just one time)\n",
    "\n",
    "#!pip install dmba\n",
    "from dmba import regressionSummary, exhaustive_search\n",
    "from dmba import backward_elimination, forward_selection, stepwise_selection\n",
    "from dmba import adjusted_r2_score, AIC_score, BIC_score"
   ]
  },
  {
   "cell_type": "code",
   "execution_count": 33,
   "id": "6da9d5a0",
   "metadata": {},
   "outputs": [],
   "source": [
    "WB = pd.read_csv('WorldBank_Assignment3_Data.csv')"
   ]
  },
  {
   "cell_type": "code",
   "execution_count": 34,
   "id": "ad9a321e",
   "metadata": {},
   "outputs": [
    {
     "data": {
      "text/html": [
       "<div>\n",
       "<style scoped>\n",
       "    .dataframe tbody tr th:only-of-type {\n",
       "        vertical-align: middle;\n",
       "    }\n",
       "\n",
       "    .dataframe tbody tr th {\n",
       "        vertical-align: top;\n",
       "    }\n",
       "\n",
       "    .dataframe thead th {\n",
       "        text-align: right;\n",
       "    }\n",
       "</style>\n",
       "<table border=\"1\" class=\"dataframe\">\n",
       "  <thead>\n",
       "    <tr style=\"text-align: right;\">\n",
       "      <th></th>\n",
       "      <th>2010 [YR2010]</th>\n",
       "      <th>2011 [YR2011]</th>\n",
       "      <th>2012 [YR2012]</th>\n",
       "      <th>2013 [YR2013]</th>\n",
       "      <th>2014 [YR2014]</th>\n",
       "      <th>2015 [YR2015]</th>\n",
       "    </tr>\n",
       "  </thead>\n",
       "  <tbody>\n",
       "    <tr>\n",
       "      <th>count</th>\n",
       "      <td>40.000000</td>\n",
       "      <td>40.000000</td>\n",
       "      <td>40.000000</td>\n",
       "      <td>40.000000</td>\n",
       "      <td>40.000000</td>\n",
       "      <td>40.000000</td>\n",
       "    </tr>\n",
       "    <tr>\n",
       "      <th>mean</th>\n",
       "      <td>82841.609362</td>\n",
       "      <td>79419.474037</td>\n",
       "      <td>79437.094162</td>\n",
       "      <td>78008.568530</td>\n",
       "      <td>74043.269281</td>\n",
       "      <td>74749.294362</td>\n",
       "    </tr>\n",
       "    <tr>\n",
       "      <th>std</th>\n",
       "      <td>196489.841820</td>\n",
       "      <td>188984.495896</td>\n",
       "      <td>190855.392296</td>\n",
       "      <td>189094.594303</td>\n",
       "      <td>179291.857242</td>\n",
       "      <td>180090.642929</td>\n",
       "    </tr>\n",
       "    <tr>\n",
       "      <th>min</th>\n",
       "      <td>2.743649</td>\n",
       "      <td>2.529051</td>\n",
       "      <td>1.525511</td>\n",
       "      <td>1.544785</td>\n",
       "      <td>1.039374</td>\n",
       "      <td>1.085030</td>\n",
       "    </tr>\n",
       "    <tr>\n",
       "      <th>25%</th>\n",
       "      <td>17.291864</td>\n",
       "      <td>18.536404</td>\n",
       "      <td>20.949555</td>\n",
       "      <td>20.770072</td>\n",
       "      <td>22.546798</td>\n",
       "      <td>24.357583</td>\n",
       "    </tr>\n",
       "    <tr>\n",
       "      <th>50%</th>\n",
       "      <td>38.661080</td>\n",
       "      <td>38.553073</td>\n",
       "      <td>38.333333</td>\n",
       "      <td>38.333333</td>\n",
       "      <td>38.954671</td>\n",
       "      <td>38.322405</td>\n",
       "    </tr>\n",
       "    <tr>\n",
       "      <th>75%</th>\n",
       "      <td>15081.882913</td>\n",
       "      <td>14090.427661</td>\n",
       "      <td>12909.189965</td>\n",
       "      <td>12945.044969</td>\n",
       "      <td>12234.758021</td>\n",
       "      <td>11714.174843</td>\n",
       "    </tr>\n",
       "    <tr>\n",
       "      <th>max</th>\n",
       "      <td>881300.000000</td>\n",
       "      <td>852550.000000</td>\n",
       "      <td>866670.000000</td>\n",
       "      <td>883920.000000</td>\n",
       "      <td>843660.000000</td>\n",
       "      <td>847460.000000</td>\n",
       "    </tr>\n",
       "  </tbody>\n",
       "</table>\n",
       "</div>"
      ],
      "text/plain": [
       "       2010 [YR2010]  2011 [YR2011]  2012 [YR2012]  2013 [YR2013]  \\\n",
       "count      40.000000      40.000000      40.000000      40.000000   \n",
       "mean    82841.609362   79419.474037   79437.094162   78008.568530   \n",
       "std    196489.841820  188984.495896  190855.392296  189094.594303   \n",
       "min         2.743649       2.529051       1.525511       1.544785   \n",
       "25%        17.291864      18.536404      20.949555      20.770072   \n",
       "50%        38.661080      38.553073      38.333333      38.333333   \n",
       "75%     15081.882913   14090.427661   12909.189965   12945.044969   \n",
       "max    881300.000000  852550.000000  866670.000000  883920.000000   \n",
       "\n",
       "       2014 [YR2014]  2015 [YR2015]  \n",
       "count      40.000000      40.000000  \n",
       "mean    74043.269281   74749.294362  \n",
       "std    179291.857242  180090.642929  \n",
       "min         1.039374       1.085030  \n",
       "25%        22.546798      24.357583  \n",
       "50%        38.954671      38.322405  \n",
       "75%     12234.758021   11714.174843  \n",
       "max    843660.000000  847460.000000  "
      ]
     },
     "execution_count": 34,
     "metadata": {},
     "output_type": "execute_result"
    }
   ],
   "source": [
    "WB.describe()"
   ]
  },
  {
   "cell_type": "code",
   "execution_count": 35,
   "id": "271aad5b",
   "metadata": {},
   "outputs": [
    {
     "name": "stdout",
     "output_type": "stream",
     "text": [
      "<class 'pandas.core.frame.DataFrame'>\n",
      "RangeIndex: 45 entries, 0 to 44\n",
      "Data columns (total 10 columns):\n",
      " #   Column         Non-Null Count  Dtype  \n",
      "---  ------         --------------  -----  \n",
      " 0   Country Name   42 non-null     object \n",
      " 1   Country Code   40 non-null     object \n",
      " 2   Series Name    40 non-null     object \n",
      " 3   Series Code    40 non-null     object \n",
      " 4   2010 [YR2010]  40 non-null     float64\n",
      " 5   2011 [YR2011]  40 non-null     float64\n",
      " 6   2012 [YR2012]  40 non-null     float64\n",
      " 7   2013 [YR2013]  40 non-null     float64\n",
      " 8   2014 [YR2014]  40 non-null     float64\n",
      " 9   2015 [YR2015]  40 non-null     float64\n",
      "dtypes: float64(6), object(4)\n",
      "memory usage: 3.6+ KB\n"
     ]
    }
   ],
   "source": [
    "WB.info()"
   ]
  },
  {
   "cell_type": "markdown",
   "id": "bb32a3b5",
   "metadata": {},
   "source": [
    "Need to convert to long format"
   ]
  },
  {
   "cell_type": "code",
   "execution_count": 37,
   "id": "8edd6a15",
   "metadata": {},
   "outputs": [
    {
     "data": {
      "text/html": [
       "<div>\n",
       "<style scoped>\n",
       "    .dataframe tbody tr th:only-of-type {\n",
       "        vertical-align: middle;\n",
       "    }\n",
       "\n",
       "    .dataframe tbody tr th {\n",
       "        vertical-align: top;\n",
       "    }\n",
       "\n",
       "    .dataframe thead th {\n",
       "        text-align: right;\n",
       "    }\n",
       "</style>\n",
       "<table border=\"1\" class=\"dataframe\">\n",
       "  <thead>\n",
       "    <tr style=\"text-align: right;\">\n",
       "      <th></th>\n",
       "      <th>Country Name</th>\n",
       "      <th>Year</th>\n",
       "      <th>Value</th>\n",
       "    </tr>\n",
       "  </thead>\n",
       "  <tbody>\n",
       "    <tr>\n",
       "      <th>0</th>\n",
       "      <td>Germany</td>\n",
       "      <td>2010 [YR2010]</td>\n",
       "      <td>881300.000000</td>\n",
       "    </tr>\n",
       "    <tr>\n",
       "      <th>1</th>\n",
       "      <td>Germany</td>\n",
       "      <td>2010 [YR2010]</td>\n",
       "      <td>13.383063</td>\n",
       "    </tr>\n",
       "    <tr>\n",
       "      <th>2</th>\n",
       "      <td>Germany</td>\n",
       "      <td>2010 [YR2010]</td>\n",
       "      <td>59.457247</td>\n",
       "    </tr>\n",
       "    <tr>\n",
       "      <th>3</th>\n",
       "      <td>Germany</td>\n",
       "      <td>2010 [YR2010]</td>\n",
       "      <td>32.797428</td>\n",
       "    </tr>\n",
       "    <tr>\n",
       "      <th>4</th>\n",
       "      <td>United Kingdom</td>\n",
       "      <td>2010 [YR2010]</td>\n",
       "      <td>594560.000000</td>\n",
       "    </tr>\n",
       "    <tr>\n",
       "      <th>...</th>\n",
       "      <td>...</td>\n",
       "      <td>...</td>\n",
       "      <td>...</td>\n",
       "    </tr>\n",
       "    <tr>\n",
       "      <th>265</th>\n",
       "      <td>NaN</td>\n",
       "      <td>2015 [YR2015]</td>\n",
       "      <td>NaN</td>\n",
       "    </tr>\n",
       "    <tr>\n",
       "      <th>266</th>\n",
       "      <td>NaN</td>\n",
       "      <td>2015 [YR2015]</td>\n",
       "      <td>NaN</td>\n",
       "    </tr>\n",
       "    <tr>\n",
       "      <th>267</th>\n",
       "      <td>NaN</td>\n",
       "      <td>2015 [YR2015]</td>\n",
       "      <td>NaN</td>\n",
       "    </tr>\n",
       "    <tr>\n",
       "      <th>268</th>\n",
       "      <td>Data from database: World Development Indicators</td>\n",
       "      <td>2015 [YR2015]</td>\n",
       "      <td>NaN</td>\n",
       "    </tr>\n",
       "    <tr>\n",
       "      <th>269</th>\n",
       "      <td>Last Updated: 09/15/2021</td>\n",
       "      <td>2015 [YR2015]</td>\n",
       "      <td>NaN</td>\n",
       "    </tr>\n",
       "  </tbody>\n",
       "</table>\n",
       "<p>270 rows × 3 columns</p>\n",
       "</div>"
      ],
      "text/plain": [
       "                                         Country Name           Year  \\\n",
       "0                                             Germany  2010 [YR2010]   \n",
       "1                                             Germany  2010 [YR2010]   \n",
       "2                                             Germany  2010 [YR2010]   \n",
       "3                                             Germany  2010 [YR2010]   \n",
       "4                                      United Kingdom  2010 [YR2010]   \n",
       "..                                                ...            ...   \n",
       "265                                               NaN  2015 [YR2015]   \n",
       "266                                               NaN  2015 [YR2015]   \n",
       "267                                               NaN  2015 [YR2015]   \n",
       "268  Data from database: World Development Indicators  2015 [YR2015]   \n",
       "269                          Last Updated: 09/15/2021  2015 [YR2015]   \n",
       "\n",
       "             Value  \n",
       "0    881300.000000  \n",
       "1        13.383063  \n",
       "2        59.457247  \n",
       "3        32.797428  \n",
       "4    594560.000000  \n",
       "..             ...  \n",
       "265            NaN  \n",
       "266            NaN  \n",
       "267            NaN  \n",
       "268            NaN  \n",
       "269            NaN  \n",
       "\n",
       "[270 rows x 3 columns]"
      ]
     },
     "execution_count": 37,
     "metadata": {},
     "output_type": "execute_result"
    }
   ],
   "source": [
    "WB_list = WB.columns[5:10]\n",
    "\n",
    "WB_long = pd.melt(WB, id_vars = ['Country Name'], value_vars = WB_list)\n",
    "WB_long.columns = ['Country Name','Year','Value']\n",
    "WB_long"
   ]
  },
  {
   "cell_type": "code",
   "execution_count": 54,
   "id": "a8762504",
   "metadata": {},
   "outputs": [
    {
     "data": {
      "text/html": [
       "<div>\n",
       "<style scoped>\n",
       "    .dataframe tbody tr th:only-of-type {\n",
       "        vertical-align: middle;\n",
       "    }\n",
       "\n",
       "    .dataframe tbody tr th {\n",
       "        vertical-align: top;\n",
       "    }\n",
       "\n",
       "    .dataframe thead th {\n",
       "        text-align: right;\n",
       "    }\n",
       "</style>\n",
       "<table border=\"1\" class=\"dataframe\">\n",
       "  <thead>\n",
       "    <tr style=\"text-align: right;\">\n",
       "      <th>Series Name</th>\n",
       "      <th>Electricity production from oil, gas and coal sources (% of total)</th>\n",
       "      <th>Electricity production from renewable sources, excluding hydroelectric (% of total)</th>\n",
       "      <th>Proportion of seats held by women in national parliaments (%)</th>\n",
       "      <th>Total greenhouse gas emissions (kt of CO2 equivalent)</th>\n",
       "    </tr>\n",
       "    <tr>\n",
       "      <th>Country Name</th>\n",
       "      <th></th>\n",
       "      <th></th>\n",
       "      <th></th>\n",
       "      <th></th>\n",
       "    </tr>\n",
       "  </thead>\n",
       "  <tbody>\n",
       "    <tr>\n",
       "      <th>Austria</th>\n",
       "      <td>22.222042</td>\n",
       "      <td>16.493694</td>\n",
       "      <td>30.601093</td>\n",
       "      <td>75480.0</td>\n",
       "    </tr>\n",
       "    <tr>\n",
       "      <th>Belgium</th>\n",
       "      <td>39.214643</td>\n",
       "      <td>20.342785</td>\n",
       "      <td>39.333333</td>\n",
       "      <td>111520.0</td>\n",
       "    </tr>\n",
       "    <tr>\n",
       "      <th>Denmark</th>\n",
       "      <td>31.899679</td>\n",
       "      <td>65.443742</td>\n",
       "      <td>37.430168</td>\n",
       "      <td>46610.0</td>\n",
       "    </tr>\n",
       "    <tr>\n",
       "      <th>France</th>\n",
       "      <td>6.055788</td>\n",
       "      <td>6.196517</td>\n",
       "      <td>26.169844</td>\n",
       "      <td>430140.0</td>\n",
       "    </tr>\n",
       "    <tr>\n",
       "      <th>Germany</th>\n",
       "      <td>55.063053</td>\n",
       "      <td>26.271087</td>\n",
       "      <td>36.450079</td>\n",
       "      <td>847460.0</td>\n",
       "    </tr>\n",
       "    <tr>\n",
       "      <th>Italy</th>\n",
       "      <td>60.246766</td>\n",
       "      <td>22.505878</td>\n",
       "      <td>30.952381</td>\n",
       "      <td>416150.0</td>\n",
       "    </tr>\n",
       "    <tr>\n",
       "      <th>Netherlands</th>\n",
       "      <td>82.233124</td>\n",
       "      <td>12.357591</td>\n",
       "      <td>37.333333</td>\n",
       "      <td>188330.0</td>\n",
       "    </tr>\n",
       "    <tr>\n",
       "      <th>Spain</th>\n",
       "      <td>44.067144</td>\n",
       "      <td>24.820009</td>\n",
       "      <td>41.142857</td>\n",
       "      <td>325510.0</td>\n",
       "    </tr>\n",
       "    <tr>\n",
       "      <th>Sweden</th>\n",
       "      <td>1.085030</td>\n",
       "      <td>16.754050</td>\n",
       "      <td>43.553009</td>\n",
       "      <td>50050.0</td>\n",
       "    </tr>\n",
       "    <tr>\n",
       "      <th>United Kingdom</th>\n",
       "      <td>53.180856</td>\n",
       "      <td>22.970305</td>\n",
       "      <td>29.384615</td>\n",
       "      <td>497740.0</td>\n",
       "    </tr>\n",
       "  </tbody>\n",
       "</table>\n",
       "</div>"
      ],
      "text/plain": [
       "Series Name     Electricity production from oil, gas and coal sources (% of total)  \\\n",
       "Country Name                                                                         \n",
       "Austria                                                 22.222042                    \n",
       "Belgium                                                 39.214643                    \n",
       "Denmark                                                 31.899679                    \n",
       "France                                                   6.055788                    \n",
       "Germany                                                 55.063053                    \n",
       "Italy                                                   60.246766                    \n",
       "Netherlands                                             82.233124                    \n",
       "Spain                                                   44.067144                    \n",
       "Sweden                                                   1.085030                    \n",
       "United Kingdom                                          53.180856                    \n",
       "\n",
       "Series Name     Electricity production from renewable sources, excluding hydroelectric (% of total)  \\\n",
       "Country Name                                                                                          \n",
       "Austria                                                 16.493694                                     \n",
       "Belgium                                                 20.342785                                     \n",
       "Denmark                                                 65.443742                                     \n",
       "France                                                   6.196517                                     \n",
       "Germany                                                 26.271087                                     \n",
       "Italy                                                   22.505878                                     \n",
       "Netherlands                                             12.357591                                     \n",
       "Spain                                                   24.820009                                     \n",
       "Sweden                                                  16.754050                                     \n",
       "United Kingdom                                          22.970305                                     \n",
       "\n",
       "Series Name     Proportion of seats held by women in national parliaments (%)  \\\n",
       "Country Name                                                                    \n",
       "Austria                                                 30.601093               \n",
       "Belgium                                                 39.333333               \n",
       "Denmark                                                 37.430168               \n",
       "France                                                  26.169844               \n",
       "Germany                                                 36.450079               \n",
       "Italy                                                   30.952381               \n",
       "Netherlands                                             37.333333               \n",
       "Spain                                                   41.142857               \n",
       "Sweden                                                  43.553009               \n",
       "United Kingdom                                          29.384615               \n",
       "\n",
       "Series Name     Total greenhouse gas emissions (kt of CO2 equivalent)  \n",
       "Country Name                                                           \n",
       "Austria                                                   75480.0      \n",
       "Belgium                                                  111520.0      \n",
       "Denmark                                                   46610.0      \n",
       "France                                                   430140.0      \n",
       "Germany                                                  847460.0      \n",
       "Italy                                                    416150.0      \n",
       "Netherlands                                              188330.0      \n",
       "Spain                                                    325510.0      \n",
       "Sweden                                                    50050.0      \n",
       "United Kingdom                                           497740.0      "
      ]
     },
     "execution_count": 54,
     "metadata": {},
     "output_type": "execute_result"
    }
   ],
   "source": [
    "WB.pivot = WB.pivot_table(index='Country Name', \n",
    "                         columns='Series Name', \n",
    "                         values='2015 [YR2015]')\n",
    "WB.pivot\n",
    "\n"
   ]
  },
  {
   "cell_type": "markdown",
   "id": "13133549",
   "metadata": {},
   "source": [
    "To simplify for this assignment I decided to just use one year to complete the rest of the assignements"
   ]
  },
  {
   "cell_type": "code",
   "execution_count": 64,
   "id": "9b16e3fe",
   "metadata": {},
   "outputs": [
    {
     "data": {
      "text/plain": [
       "<seaborn.axisgrid.PairGrid at 0x1a08d2cc9d0>"
      ]
     },
     "execution_count": 64,
     "metadata": {},
     "output_type": "execute_result"
    },
    {
     "data": {
      "image/png": "[encoded data removed]",
      "text/plain": [
       "<Figure size 540x180 with 3 Axes>"
      ]
     },
     "metadata": {},
     "output_type": "display_data"
    }
   ],
   "source": [
    "WB.pivot.rename(columns = {'Electricity production from oil, gas and coal sources (% of total)':'% Electricity from oil, gas, and coal','Electricity production from renewable sources, excluding hydroelectric (% of total)':'% Electricity from renewable resources', 'Proportion of seats held by women in national parliaments (%)':'Proportion of seats held by women in parliament', 'Total greenhouse gas emissions (kt of CO2 equivalent)':'Total greenhouse gas emissions'}, inplace = True)\n",
    "\n",
    "x_var= ['% Electricity from oil, gas, and coal','% Electricity from renewable resources','Total greenhouse gas emissions']\n",
    "sns.pairplot(data=WB.pivot, y_vars=['Proportion of seats held by women in parliament'], x_vars=x_var)"
   ]
  },
  {
   "cell_type": "code",
   "execution_count": 66,
   "id": "a1438097",
   "metadata": {},
   "outputs": [
    {
     "data": {
      "text/html": [
       "<div>\n",
       "<style scoped>\n",
       "    .dataframe tbody tr th:only-of-type {\n",
       "        vertical-align: middle;\n",
       "    }\n",
       "\n",
       "    .dataframe tbody tr th {\n",
       "        vertical-align: top;\n",
       "    }\n",
       "\n",
       "    .dataframe thead th {\n",
       "        text-align: right;\n",
       "    }\n",
       "</style>\n",
       "<table border=\"1\" class=\"dataframe\">\n",
       "  <thead>\n",
       "    <tr style=\"text-align: right;\">\n",
       "      <th>Series Name</th>\n",
       "      <th>% Electricity from oil, gas, and coal</th>\n",
       "      <th>% Electricity from renewable resources</th>\n",
       "      <th>Proportion of seats held by women in parliament</th>\n",
       "      <th>Total greenhouse gas emissions</th>\n",
       "    </tr>\n",
       "    <tr>\n",
       "      <th>Series Name</th>\n",
       "      <th></th>\n",
       "      <th></th>\n",
       "      <th></th>\n",
       "      <th></th>\n",
       "    </tr>\n",
       "  </thead>\n",
       "  <tbody>\n",
       "    <tr>\n",
       "      <th>% Electricity from oil, gas, and coal</th>\n",
       "      <td>1.000000</td>\n",
       "      <td>0.051634</td>\n",
       "      <td>0.009815</td>\n",
       "      <td>0.346249</td>\n",
       "    </tr>\n",
       "    <tr>\n",
       "      <th>% Electricity from renewable resources</th>\n",
       "      <td>0.051634</td>\n",
       "      <td>1.000000</td>\n",
       "      <td>0.255133</td>\n",
       "      <td>-0.174486</td>\n",
       "    </tr>\n",
       "    <tr>\n",
       "      <th>Proportion of seats held by women in parliament</th>\n",
       "      <td>0.009815</td>\n",
       "      <td>0.255133</td>\n",
       "      <td>1.000000</td>\n",
       "      <td>-0.353043</td>\n",
       "    </tr>\n",
       "    <tr>\n",
       "      <th>Total greenhouse gas emissions</th>\n",
       "      <td>0.346249</td>\n",
       "      <td>-0.174486</td>\n",
       "      <td>-0.353043</td>\n",
       "      <td>1.000000</td>\n",
       "    </tr>\n",
       "  </tbody>\n",
       "</table>\n",
       "</div>"
      ],
      "text/plain": [
       "Series Name                                      % Electricity from oil, gas, and coal  \\\n",
       "Series Name                                                                              \n",
       "% Electricity from oil, gas, and coal                                         1.000000   \n",
       "% Electricity from renewable resources                                        0.051634   \n",
       "Proportion of seats held by women in parliament                               0.009815   \n",
       "Total greenhouse gas emissions                                                0.346249   \n",
       "\n",
       "Series Name                                      % Electricity from renewable resources  \\\n",
       "Series Name                                                                               \n",
       "% Electricity from oil, gas, and coal                                          0.051634   \n",
       "% Electricity from renewable resources                                         1.000000   \n",
       "Proportion of seats held by women in parliament                                0.255133   \n",
       "Total greenhouse gas emissions                                                -0.174486   \n",
       "\n",
       "Series Name                                      Proportion of seats held by women in parliament  \\\n",
       "Series Name                                                                                        \n",
       "% Electricity from oil, gas, and coal                                                   0.009815   \n",
       "% Electricity from renewable resources                                                  0.255133   \n",
       "Proportion of seats held by women in parliament                                         1.000000   \n",
       "Total greenhouse gas emissions                                                         -0.353043   \n",
       "\n",
       "Series Name                                      Total greenhouse gas emissions  \n",
       "Series Name                                                                      \n",
       "% Electricity from oil, gas, and coal                                  0.346249  \n",
       "% Electricity from renewable resources                                -0.174486  \n",
       "Proportion of seats held by women in parliament                       -0.353043  \n",
       "Total greenhouse gas emissions                                         1.000000  "
      ]
     },
     "execution_count": 66,
     "metadata": {},
     "output_type": "execute_result"
    }
   ],
   "source": [
    "WB.pivot.corr()"
   ]
  },
  {
   "cell_type": "code",
   "execution_count": 68,
   "id": "8570cb78",
   "metadata": {},
   "outputs": [
    {
     "data": {
      "text/plain": [
       "<AxesSubplot:xlabel='Series Name', ylabel='Series Name'>"
      ]
     },
     "execution_count": 68,
     "metadata": {},
     "output_type": "execute_result"
    },
    {
     "data": {
      "image/png": "[encoded data removed]",
      "text/plain": [
       "<Figure size 432x360 with 2 Axes>"
      ]
     },
     "metadata": {},
     "output_type": "display_data"
    }
   ],
   "source": [
    "corrmat = WB.pivot.corr()\n",
    "sns.heatmap(corrmat, square = True, cmap=\"PuBu\")"
   ]
  },
  {
   "cell_type": "code",
   "execution_count": 70,
   "id": "952cb82c",
   "metadata": {},
   "outputs": [
    {
     "data": {
      "text/plain": [
       "<seaborn.axisgrid.FacetGrid at 0x1a08e6b86d0>"
      ]
     },
     "execution_count": 70,
     "metadata": {},
     "output_type": "execute_result"
    },
    {
     "data": {
      "image/png": "[encoded data removed]",
      "text/plain": [
       "<Figure size 360x360 with 1 Axes>"
      ]
     },
     "metadata": {},
     "output_type": "display_data"
    }
   ],
   "source": [
    "sns.lmplot(x=\"% Electricity from oil, gas, and coal\", y=\"Proportion of seats held by women in parliament\", data=WB.pivot, order=1, ci=95, scatter_kws={'color':'b'}, line_kws={'color':'r'})"
   ]
  },
  {
   "cell_type": "code",
   "execution_count": 72,
   "id": "f8d24b2e",
   "metadata": {},
   "outputs": [
    {
     "data": {
      "text/plain": [
       "<seaborn.axisgrid.FacetGrid at 0x1a08f136fa0>"
      ]
     },
     "execution_count": 72,
     "metadata": {},
     "output_type": "execute_result"
    },
    {
     "data": {
      "image/png": "[encoded data removed]",
      "text/plain": [
       "<Figure size 360x360 with 1 Axes>"
      ]
     },
     "metadata": {},
     "output_type": "display_data"
    }
   ],
   "source": [
    "sns.lmplot(x=\"% Electricity from renewable resources\", y=\"Proportion of seats held by women in parliament\", data=WB.pivot, order=1, ci=95, scatter_kws={'color':'b'}, line_kws={'color':'r'})"
   ]
  },
  {
   "cell_type": "code",
   "execution_count": 71,
   "id": "a23078f6",
   "metadata": {},
   "outputs": [
    {
     "data": {
      "text/plain": [
       "<seaborn.axisgrid.FacetGrid at 0x1a08d4f86d0>"
      ]
     },
     "execution_count": 71,
     "metadata": {},
     "output_type": "execute_result"
    },
    {
     "data": {
      "image/png": "[encoded data removed]",
      "text/plain": [
       "<Figure size 360x360 with 1 Axes>"
      ]
     },
     "metadata": {},
     "output_type": "display_data"
    }
   ],
   "source": [
    "sns.lmplot(x=\"Total greenhouse gas emissions\", y=\"Proportion of seats held by women in parliament\", data=WB.pivot, order=1, ci=95, scatter_kws={'color':'b'}, line_kws={'color':'r'})"
   ]
  },
  {
   "cell_type": "markdown",
   "id": "cc58a042",
   "metadata": {},
   "source": [
    "The exploration of the data is listed above, I am interested in exploring the relationship of the proportion of females in parliment with some environmental factors and what the relationship between these variables is. There seem to be some associations here but it looks like there could be some outliers. Also more data may be needed to really get a picture of this relationship."
   ]
  },
  {
   "cell_type": "markdown",
   "id": "3ecad00d",
   "metadata": {},
   "source": [
    "# Exercise-2"
   ]
  },
  {
   "cell_type": "code",
   "execution_count": 92,
   "id": "f98fdde2",
   "metadata": {},
   "outputs": [
    {
     "name": "stderr",
     "output_type": "stream",
     "text": [
      "C:\\Users\\Brian\\anaconda3\\lib\\site-packages\\scipy\\stats\\stats.py:1603: UserWarning: kurtosistest only valid for n>=20 ... continuing anyway, n=10\n",
      "  warnings.warn(\"kurtosistest only valid for n>=20 ... continuing \"\n"
     ]
    },
    {
     "data": {
      "text/html": [
       "<table class=\"simpletable\">\n",
       "<caption>OLS Regression Results</caption>\n",
       "<tr>\n",
       "  <th>Dep. Variable:</th>    <td>Proportion of seats held by women in parliament</td> <th>  R-squared:         </th> <td>   0.177</td>\n",
       "</tr>\n",
       "<tr>\n",
       "  <th>Model:</th>                                  <td>OLS</td>                       <th>  Adj. R-squared:    </th> <td>  -0.234</td>\n",
       "</tr>\n",
       "<tr>\n",
       "  <th>Method:</th>                            <td>Least Squares</td>                  <th>  F-statistic:       </th> <td>  0.4306</td>\n",
       "</tr>\n",
       "<tr>\n",
       "  <th>Date:</th>                            <td>Tue, 26 Oct 2021</td>                 <th>  Prob (F-statistic):</th>  <td> 0.739</td> \n",
       "</tr>\n",
       "<tr>\n",
       "  <th>Time:</th>                                <td>15:55:27</td>                     <th>  Log-Likelihood:    </th> <td> -30.013</td>\n",
       "</tr>\n",
       "<tr>\n",
       "  <th>No. Observations:</th>                     <td>    10</td>                      <th>  AIC:               </th> <td>   68.03</td>\n",
       "</tr>\n",
       "<tr>\n",
       "  <th>Df Residuals:</th>                         <td>     6</td>                      <th>  BIC:               </th> <td>   69.24</td>\n",
       "</tr>\n",
       "<tr>\n",
       "  <th>Df Model:</th>                             <td>     3</td>                      <th>                     </th>     <td> </td>   \n",
       "</tr>\n",
       "<tr>\n",
       "  <th>Covariance Type:</th>                     <td>nonrobust</td>                    <th>                     </th>     <td> </td>   \n",
       "</tr>\n",
       "</table>\n",
       "<table class=\"simpletable\">\n",
       "<tr>\n",
       "                     <td></td>                       <th>coef</th>     <th>std err</th>      <th>t</th>      <th>P>|t|</th>  <th>[0.025</th>    <th>0.975]</th>  \n",
       "</tr>\n",
       "<tr>\n",
       "  <th>const</th>                                  <td>   34.9710</td> <td>    5.228</td> <td>    6.689</td> <td> 0.001</td> <td>   22.179</td> <td>   47.763</td>\n",
       "</tr>\n",
       "<tr>\n",
       "  <th>% Electricity from oil, gas, and coal</th>  <td>    0.0285</td> <td>    0.090</td> <td>    0.318</td> <td> 0.761</td> <td>   -0.191</td> <td>    0.248</td>\n",
       "</tr>\n",
       "<tr>\n",
       "  <th>Total greenhouse gas emissions</th>         <td>-8.018e-06</td> <td> 8.87e-06</td> <td>   -0.904</td> <td> 0.401</td> <td>-2.97e-05</td> <td> 1.37e-05</td>\n",
       "</tr>\n",
       "<tr>\n",
       "  <th>% Electricity from renewable resources</th> <td>    0.0655</td> <td>    0.134</td> <td>    0.488</td> <td> 0.643</td> <td>   -0.263</td> <td>    0.394</td>\n",
       "</tr>\n",
       "</table>\n",
       "<table class=\"simpletable\">\n",
       "<tr>\n",
       "  <th>Omnibus:</th>       <td> 2.776</td> <th>  Durbin-Watson:     </th> <td>   2.166</td>\n",
       "</tr>\n",
       "<tr>\n",
       "  <th>Prob(Omnibus):</th> <td> 0.250</td> <th>  Jarque-Bera (JB):  </th> <td>   1.016</td>\n",
       "</tr>\n",
       "<tr>\n",
       "  <th>Skew:</th>          <td> 0.255</td> <th>  Prob(JB):          </th> <td>   0.602</td>\n",
       "</tr>\n",
       "<tr>\n",
       "  <th>Kurtosis:</th>      <td> 1.524</td> <th>  Cond. No.          </th> <td>1.02e+06</td>\n",
       "</tr>\n",
       "</table><br/><br/>Notes:<br/>[1] Standard Errors assume that the covariance matrix of the errors is correctly specified.<br/>[2] The condition number is large, 1.02e+06. This might indicate that there are<br/>strong multicollinearity or other numerical problems."
      ],
      "text/plain": [
       "<class 'statsmodels.iolib.summary.Summary'>\n",
       "\"\"\"\n",
       "                                           OLS Regression Results                                          \n",
       "===========================================================================================================\n",
       "Dep. Variable:     Proportion of seats held by women in parliament   R-squared:                       0.177\n",
       "Model:                                                         OLS   Adj. R-squared:                 -0.234\n",
       "Method:                                              Least Squares   F-statistic:                    0.4306\n",
       "Date:                                             Tue, 26 Oct 2021   Prob (F-statistic):              0.739\n",
       "Time:                                                     15:55:27   Log-Likelihood:                -30.013\n",
       "No. Observations:                                               10   AIC:                             68.03\n",
       "Df Residuals:                                                    6   BIC:                             69.24\n",
       "Df Model:                                                        3                                         \n",
       "Covariance Type:                                         nonrobust                                         \n",
       "==========================================================================================================\n",
       "                                             coef    std err          t      P>|t|      [0.025      0.975]\n",
       "----------------------------------------------------------------------------------------------------------\n",
       "const                                     34.9710      5.228      6.689      0.001      22.179      47.763\n",
       "% Electricity from oil, gas, and coal      0.0285      0.090      0.318      0.761      -0.191       0.248\n",
       "Total greenhouse gas emissions         -8.018e-06   8.87e-06     -0.904      0.401   -2.97e-05    1.37e-05\n",
       "% Electricity from renewable resources     0.0655      0.134      0.488      0.643      -0.263       0.394\n",
       "==============================================================================\n",
       "Omnibus:                        2.776   Durbin-Watson:                   2.166\n",
       "Prob(Omnibus):                  0.250   Jarque-Bera (JB):                1.016\n",
       "Skew:                           0.255   Prob(JB):                        0.602\n",
       "Kurtosis:                       1.524   Cond. No.                     1.02e+06\n",
       "==============================================================================\n",
       "\n",
       "Notes:\n",
       "[1] Standard Errors assume that the covariance matrix of the errors is correctly specified.\n",
       "[2] The condition number is large, 1.02e+06. This might indicate that there are\n",
       "strong multicollinearity or other numerical problems.\n",
       "\"\"\""
      ]
     },
     "execution_count": 92,
     "metadata": {},
     "output_type": "execute_result"
    }
   ],
   "source": [
    "y=WB.pivot['Proportion of seats held by women in parliament']\n",
    "X=WB.pivot[['% Electricity from oil, gas, and coal', 'Total greenhouse gas emissions', '% Electricity from renewable resources']]\n",
    "X=sm.add_constant(X)\n",
    "model1 = sm.OLS(y, X) \n",
    "results1 = model1.fit()\n",
    "results1.summary()"
   ]
  },
  {
   "cell_type": "code",
   "execution_count": 93,
   "id": "506ac4d2",
   "metadata": {},
   "outputs": [
    {
     "data": {
      "text/plain": [
       "Country Name\n",
       "Austria    36.079620\n",
       "Belgium    36.527436\n",
       "Denmark    39.791817\n",
       "France     32.100544\n",
       "Germany    31.466810\n",
       "dtype: float64"
      ]
     },
     "execution_count": 93,
     "metadata": {},
     "output_type": "execute_result"
    }
   ],
   "source": [
    "predictions1=results1.predict(X)\n",
    "predictions1.head()"
   ]
  },
  {
   "cell_type": "code",
   "execution_count": 94,
   "id": "885d65eb",
   "metadata": {},
   "outputs": [],
   "source": [
    "WB.pivot['predicted_prop_of_females']=predictions1"
   ]
  },
  {
   "cell_type": "code",
   "execution_count": 95,
   "id": "d802e248",
   "metadata": {},
   "outputs": [
    {
     "data": {
      "image/png": "[encoded data removed]",
      "text/plain": [
       "<Figure size 360x360 with 1 Axes>"
      ]
     },
     "metadata": {},
     "output_type": "display_data"
    }
   ],
   "source": [
    "g=sns.relplot(x=\"Proportion of seats held by women in parliament\", y=\"predicted_prop_of_females\", data=WB.pivot) #store the plot in \"g\"\n",
    "g.set(xlabel=\"Proportion of females in Parliment\", ylabel=\"Predicted Proportion of females in Parliment\") #set lables for axes\n",
    "mn = min(WB.pivot['Proportion of seats held by women in parliament'].min(), WB.pivot['Proportion of seats held by women in parliament'].min()) #generate min coordinates for line\n",
    "mx = max(WB.pivot['Proportion of seats held by women in parliament'].max(), WB.pivot['Proportion of seats held by women in parliament'].max()) #generate max coordinates for line\n",
    "points = np.linspace(mn, mx, 100) #generate points of the line\n",
    "plt.plot(points, points, color='r', linestyle='--', linewidth=1.5) #add the line to the plot\n",
    "plt.show() #show the full plot\n",
    "#plt.gca().plot(points, points, color='r', linestyle='--', linewidth=1.5) #also works"
   ]
  },
  {
   "cell_type": "code",
   "execution_count": 96,
   "id": "ef1003e0",
   "metadata": {},
   "outputs": [
    {
     "data": {
      "text/plain": [
       "4.866429210869349"
      ]
     },
     "execution_count": 96,
     "metadata": {},
     "output_type": "execute_result"
    }
   ],
   "source": [
    "sm.tools.eval_measures.rmse(WB.pivot['Proportion of seats held by women in parliament'], WB.pivot.predicted_prop_of_females, axis=0)"
   ]
  },
  {
   "cell_type": "markdown",
   "id": "094c3efb",
   "metadata": {},
   "source": [
    "Our prediction of the percentage of females in parliment was about 4.86 percent off on average."
   ]
  },
  {
   "cell_type": "code",
   "execution_count": 97,
   "id": "ea41fc21",
   "metadata": {},
   "outputs": [
    {
     "name": "stdout",
     "output_type": "stream",
     "text": [
      "\n",
      "Regression statistics\n",
      "\n",
      "                      Mean Error (ME) : -0.0000\n",
      "       Root Mean Squared Error (RMSE) : 4.8664\n",
      "            Mean Absolute Error (MAE) : 4.4523\n",
      "          Mean Percentage Error (MPE) : -2.0000\n",
      "Mean Absolute Percentage Error (MAPE) : 13.0204\n"
     ]
    }
   ],
   "source": [
    "regressionSummary(WB.pivot['Proportion of seats held by women in parliament'], WB.pivot.predicted_prop_of_females)"
   ]
  },
  {
   "cell_type": "markdown",
   "id": "c746e450",
   "metadata": {},
   "source": [
    "#### Regression diagnostics"
   ]
  },
  {
   "cell_type": "code",
   "execution_count": 98,
   "id": "8dafe037",
   "metadata": {},
   "outputs": [],
   "source": [
    "residuals=results1.resid"
   ]
  },
  {
   "cell_type": "markdown",
   "id": "6b237073",
   "metadata": {},
   "source": [
    "#### Normality of residuals"
   ]
  },
  {
   "cell_type": "code",
   "execution_count": 99,
   "id": "705f5185",
   "metadata": {},
   "outputs": [
    {
     "name": "stderr",
     "output_type": "stream",
     "text": [
      "C:\\Users\\Brian\\anaconda3\\lib\\site-packages\\seaborn\\distributions.py:2557: FutureWarning: `distplot` is a deprecated function and will be removed in a future version. Please adapt your code to use either `displot` (a figure-level function with similar flexibility) or `histplot` (an axes-level function for histograms).\n",
      "  warnings.warn(msg, FutureWarning)\n"
     ]
    },
    {
     "data": {
      "text/plain": [
       "<AxesSubplot:ylabel='Density'>"
      ]
     },
     "execution_count": 99,
     "metadata": {},
     "output_type": "execute_result"
    },
    {
     "data": {
      "image/png": "[encoded data removed]",
      "text/plain": [
       "<Figure size 432x360 with 1 Axes>"
      ]
     },
     "metadata": {},
     "output_type": "display_data"
    }
   ],
   "source": [
    "sns.distplot(residuals, bins=10, kde=True, hist=True, fit=stats.gamma, fit_kws={\"color\":\"red\"})"
   ]
  },
  {
   "cell_type": "code",
   "execution_count": 100,
   "id": "c3f53be5",
   "metadata": {},
   "outputs": [
    {
     "data": {
      "image/png": "[encoded data removed]",
      "text/plain": [
       "<Figure size 432x360 with 1 Axes>"
      ]
     },
     "metadata": {},
     "output_type": "display_data"
    }
   ],
   "source": [
    "fig=sm.qqplot(residuals, stats.t, fit=True, line='45')\n",
    "plt.show()"
   ]
  },
  {
   "cell_type": "markdown",
   "id": "2dc59bd4",
   "metadata": {},
   "source": [
    "#### Heteroskedasticity"
   ]
  },
  {
   "cell_type": "code",
   "execution_count": 101,
   "id": "2f5e4030",
   "metadata": {},
   "outputs": [
    {
     "data": {
      "text/plain": [
       "[('Lagrange multiplier statistic', 6.675285338738897),\n",
       " ('p-value', 0.08300017871784177),\n",
       " ('f-value', 4.015553825727038),\n",
       " ('f p-value', 0.06958915345726027)]"
      ]
     },
     "execution_count": 101,
     "metadata": {},
     "output_type": "execute_result"
    }
   ],
   "source": [
    "name = ['Lagrange multiplier statistic', 'p-value', 'f-value', 'f p-value']\n",
    "test = sms.het_breuschpagan(results1.resid, results1.model.exog)\n",
    "lzip(name, test)"
   ]
  },
  {
   "cell_type": "code",
   "execution_count": 102,
   "id": "3d1f0bf8",
   "metadata": {},
   "outputs": [
    {
     "data": {
      "text/plain": [
       "[('F statistic', 0.8519272872314846), ('p-value', 0.5254779837369544)]"
      ]
     },
     "execution_count": 102,
     "metadata": {},
     "output_type": "execute_result"
    }
   ],
   "source": [
    "name = ['F statistic', 'p-value']\n",
    "test = sms.het_goldfeldquandt(results1.resid, results1.model.exog)\n",
    "lzip(name, test)"
   ]
  },
  {
   "cell_type": "markdown",
   "id": "a2bcbdf0",
   "metadata": {},
   "source": [
    "#### Multicollinearity"
   ]
  },
  {
   "cell_type": "code",
   "execution_count": 103,
   "id": "03102e3a",
   "metadata": {},
   "outputs": [
    {
     "data": {
      "text/plain": [
       "1015355.2746451249"
      ]
     },
     "execution_count": 103,
     "metadata": {},
     "output_type": "execute_result"
    }
   ],
   "source": [
    "np.linalg.cond(results1.model.exog)"
   ]
  },
  {
   "cell_type": "markdown",
   "id": "44213b3a",
   "metadata": {},
   "source": [
    "Based on this I feel I must go back and select more dissimilar variables. Some of these are too related to one another."
   ]
  },
  {
   "cell_type": "markdown",
   "id": "54f2d190",
   "metadata": {},
   "source": [
    "#### Outliers"
   ]
  },
  {
   "cell_type": "code",
   "execution_count": 104,
   "id": "18372942",
   "metadata": {},
   "outputs": [
    {
     "data": {
      "text/plain": [
       "array([[-0.49997681,  0.13146242,  0.29283193,  0.20835682],\n",
       "       [ 0.13453489,  0.05032809, -0.14041063, -0.06062969],\n",
       "       [ 1.09979152,  0.38403391,  0.57267808, -3.61193863],\n",
       "       [-0.96444076,  1.00680789, -0.56856914,  0.54641515],\n",
       "       [-0.75280986, -0.15886052,  1.71689183,  0.46890339]])"
      ]
     },
     "execution_count": 104,
     "metadata": {},
     "output_type": "execute_result"
    }
   ],
   "source": [
    "test_class = OLSInfluence(results1)\n",
    "test_class.dfbetas[:5,:]"
   ]
  },
  {
   "cell_type": "code",
   "execution_count": 105,
   "id": "9847ea65",
   "metadata": {},
   "outputs": [
    {
     "data": {
      "image/png": "[encoded data removed]",
      "text/plain": [
       "<Figure size 576x432 with 1 Axes>"
      ]
     },
     "metadata": {},
     "output_type": "display_data"
    }
   ],
   "source": [
    "fig, ax = plt.subplots(figsize=(8,6))\n",
    "fig = plot_leverage_resid2(results1, ax = ax)"
   ]
  },
  {
   "cell_type": "markdown",
   "id": "c777475b",
   "metadata": {},
   "source": [
    "#### Re-training the model: Exploring alternatives with interactions"
   ]
  },
  {
   "cell_type": "code",
   "execution_count": 106,
   "id": "b4085810",
   "metadata": {},
   "outputs": [],
   "source": [
    "WB.pivot['green_renew']=WB.pivot['Total greenhouse gas emissions']*WB.pivot['% Electricity from renewable resources']"
   ]
  },
  {
   "cell_type": "code",
   "execution_count": 109,
   "id": "dc65b880",
   "metadata": {},
   "outputs": [
    {
     "name": "stderr",
     "output_type": "stream",
     "text": [
      "C:\\Users\\Brian\\anaconda3\\lib\\site-packages\\scipy\\stats\\stats.py:1603: UserWarning: kurtosistest only valid for n>=20 ... continuing anyway, n=10\n",
      "  warnings.warn(\"kurtosistest only valid for n>=20 ... continuing \"\n"
     ]
    },
    {
     "data": {
      "text/html": [
       "<table class=\"simpletable\">\n",
       "<caption>OLS Regression Results</caption>\n",
       "<tr>\n",
       "  <th>Dep. Variable:</th>    <td>Proportion of seats held by women in parliament</td> <th>  R-squared:         </th> <td>   0.485</td>\n",
       "</tr>\n",
       "<tr>\n",
       "  <th>Model:</th>                                  <td>OLS</td>                       <th>  Adj. R-squared:    </th> <td>   0.074</td>\n",
       "</tr>\n",
       "<tr>\n",
       "  <th>Method:</th>                            <td>Least Squares</td>                  <th>  F-statistic:       </th> <td>   1.179</td>\n",
       "</tr>\n",
       "<tr>\n",
       "  <th>Date:</th>                            <td>Tue, 26 Oct 2021</td>                 <th>  Prob (F-statistic):</th>  <td> 0.420</td> \n",
       "</tr>\n",
       "<tr>\n",
       "  <th>Time:</th>                                <td>15:58:26</td>                     <th>  Log-Likelihood:    </th> <td> -27.666</td>\n",
       "</tr>\n",
       "<tr>\n",
       "  <th>No. Observations:</th>                     <td>    10</td>                      <th>  AIC:               </th> <td>   65.33</td>\n",
       "</tr>\n",
       "<tr>\n",
       "  <th>Df Residuals:</th>                         <td>     5</td>                      <th>  BIC:               </th> <td>   66.84</td>\n",
       "</tr>\n",
       "<tr>\n",
       "  <th>Df Model:</th>                             <td>     4</td>                      <th>                     </th>     <td> </td>   \n",
       "</tr>\n",
       "<tr>\n",
       "  <th>Covariance Type:</th>                     <td>nonrobust</td>                    <th>                     </th>     <td> </td>   \n",
       "</tr>\n",
       "</table>\n",
       "<table class=\"simpletable\">\n",
       "<tr>\n",
       "                     <td></td>                       <th>coef</th>     <th>std err</th>      <th>t</th>      <th>P>|t|</th>  <th>[0.025</th>    <th>0.975]</th>  \n",
       "</tr>\n",
       "<tr>\n",
       "  <th>const</th>                                  <td>   42.2985</td> <td>    6.200</td> <td>    6.823</td> <td> 0.001</td> <td>   26.362</td> <td>   58.236</td>\n",
       "</tr>\n",
       "<tr>\n",
       "  <th>% Electricity from oil, gas, and coal</th>  <td>   -0.0180</td> <td>    0.082</td> <td>   -0.219</td> <td> 0.835</td> <td>   -0.229</td> <td>    0.193</td>\n",
       "</tr>\n",
       "<tr>\n",
       "  <th>Total greenhouse gas emissions</th>         <td>-4.735e-05</td> <td>  2.4e-05</td> <td>   -1.974</td> <td> 0.105</td> <td>   -0.000</td> <td> 1.43e-05</td>\n",
       "</tr>\n",
       "<tr>\n",
       "  <th>% Electricity from renewable resources</th> <td>   -0.1099</td> <td>    0.154</td> <td>   -0.713</td> <td> 0.508</td> <td>   -0.506</td> <td>    0.286</td>\n",
       "</tr>\n",
       "<tr>\n",
       "  <th>green_renew</th>                            <td> 1.633e-06</td> <td> 9.43e-07</td> <td>    1.731</td> <td> 0.144</td> <td>-7.92e-07</td> <td> 4.06e-06</td>\n",
       "</tr>\n",
       "</table>\n",
       "<table class=\"simpletable\">\n",
       "<tr>\n",
       "  <th>Omnibus:</th>       <td> 1.782</td> <th>  Durbin-Watson:     </th> <td>   1.612</td>\n",
       "</tr>\n",
       "<tr>\n",
       "  <th>Prob(Omnibus):</th> <td> 0.410</td> <th>  Jarque-Bera (JB):  </th> <td>   1.077</td>\n",
       "</tr>\n",
       "<tr>\n",
       "  <th>Skew:</th>          <td>-0.754</td> <th>  Prob(JB):          </th> <td>   0.584</td>\n",
       "</tr>\n",
       "<tr>\n",
       "  <th>Kurtosis:</th>      <td> 2.443</td> <th>  Cond. No.          </th> <td>3.24e+07</td>\n",
       "</tr>\n",
       "</table><br/><br/>Notes:<br/>[1] Standard Errors assume that the covariance matrix of the errors is correctly specified.<br/>[2] The condition number is large, 3.24e+07. This might indicate that there are<br/>strong multicollinearity or other numerical problems."
      ],
      "text/plain": [
       "<class 'statsmodels.iolib.summary.Summary'>\n",
       "\"\"\"\n",
       "                                           OLS Regression Results                                          \n",
       "===========================================================================================================\n",
       "Dep. Variable:     Proportion of seats held by women in parliament   R-squared:                       0.485\n",
       "Model:                                                         OLS   Adj. R-squared:                  0.074\n",
       "Method:                                              Least Squares   F-statistic:                     1.179\n",
       "Date:                                             Tue, 26 Oct 2021   Prob (F-statistic):              0.420\n",
       "Time:                                                     15:58:26   Log-Likelihood:                -27.666\n",
       "No. Observations:                                               10   AIC:                             65.33\n",
       "Df Residuals:                                                    5   BIC:                             66.84\n",
       "Df Model:                                                        4                                         \n",
       "Covariance Type:                                         nonrobust                                         \n",
       "==========================================================================================================\n",
       "                                             coef    std err          t      P>|t|      [0.025      0.975]\n",
       "----------------------------------------------------------------------------------------------------------\n",
       "const                                     42.2985      6.200      6.823      0.001      26.362      58.236\n",
       "% Electricity from oil, gas, and coal     -0.0180      0.082     -0.219      0.835      -0.229       0.193\n",
       "Total greenhouse gas emissions         -4.735e-05    2.4e-05     -1.974      0.105      -0.000    1.43e-05\n",
       "% Electricity from renewable resources    -0.1099      0.154     -0.713      0.508      -0.506       0.286\n",
       "green_renew                             1.633e-06   9.43e-07      1.731      0.144   -7.92e-07    4.06e-06\n",
       "==============================================================================\n",
       "Omnibus:                        1.782   Durbin-Watson:                   1.612\n",
       "Prob(Omnibus):                  0.410   Jarque-Bera (JB):                1.077\n",
       "Skew:                          -0.754   Prob(JB):                        0.584\n",
       "Kurtosis:                       2.443   Cond. No.                     3.24e+07\n",
       "==============================================================================\n",
       "\n",
       "Notes:\n",
       "[1] Standard Errors assume that the covariance matrix of the errors is correctly specified.\n",
       "[2] The condition number is large, 3.24e+07. This might indicate that there are\n",
       "strong multicollinearity or other numerical problems.\n",
       "\"\"\""
      ]
     },
     "execution_count": 109,
     "metadata": {},
     "output_type": "execute_result"
    }
   ],
   "source": [
    "y=WB.pivot['Proportion of seats held by women in parliament']\n",
    "X2=WB.pivot[['% Electricity from oil, gas, and coal', 'Total greenhouse gas emissions', '% Electricity from renewable resources', 'green_renew']]\n",
    "X2=sm.add_constant(X2)\n",
    "model2 = sm.OLS(y, X2) \n",
    "results2 = model2.fit()\n",
    "results2.summary()"
   ]
  },
  {
   "cell_type": "code",
   "execution_count": 111,
   "id": "dee744f9",
   "metadata": {},
   "outputs": [],
   "source": [
    "predictions2=results2.predict(X2)\n",
    "WB.pivot['predicted_prop_of_females2']=predictions2"
   ]
  },
  {
   "cell_type": "code",
   "execution_count": 114,
   "id": "f9515428",
   "metadata": {},
   "outputs": [
    {
     "data": {
      "image/png": "[encoded data removed]",
      "text/plain": [
       "<Figure size 360x360 with 1 Axes>"
      ]
     },
     "metadata": {},
     "output_type": "display_data"
    }
   ],
   "source": [
    "g2=sns.relplot(x=\"Proportion of seats held by women in parliament\", y=\"predicted_prop_of_females2\", data=WB.pivot) #store the plot in \"g\"\n",
    "g2.set(xlabel=\"Proportion of females in Parliment\", ylabel=\"Predicted Proportion of females in Parliment\") #set lables for axes\n",
    "mn2 = min(WB.pivot['Proportion of seats held by women in parliament'].min(), WB.pivot['Proportion of seats held by women in parliament'].min()) #generate min coordinates for line\n",
    "mx2 = max(WB.pivot['Proportion of seats held by women in parliament'].max(), WB.pivot['Proportion of seats held by women in parliament'].max()) #generate max coordinates for line\n",
    "points2 = np.linspace(mn2, mx2, 100) #generate points of the line\n",
    "plt.plot(points2, points2, color='r', linestyle='--', linewidth=1.5) #add the line to the plot\n",
    "plt.show() #show the full plot"
   ]
  },
  {
   "cell_type": "code",
   "execution_count": 115,
   "id": "c8abe3f7",
   "metadata": {},
   "outputs": [
    {
     "data": {
      "text/plain": [
       "3.8484133798375826"
      ]
     },
     "execution_count": 115,
     "metadata": {},
     "output_type": "execute_result"
    }
   ],
   "source": [
    "sm.tools.eval_measures.rmse(WB.pivot['Proportion of seats held by women in parliament'], WB.pivot.predicted_prop_of_females2, axis=0)"
   ]
  },
  {
   "cell_type": "markdown",
   "id": "89b5f63e",
   "metadata": {},
   "source": [
    "Adding this interaction term helped improve our model quite a bit with a better r^2 value and a lower RMSE value calculated to be 3.8 when before it was 4.866"
   ]
  },
  {
   "cell_type": "markdown",
   "id": "ccde6b37",
   "metadata": {},
   "source": [
    "# Exercise-3"
   ]
  },
  {
   "cell_type": "code",
   "execution_count": 117,
   "id": "f69c9950",
   "metadata": {},
   "outputs": [],
   "source": [
    "Y = WB.pivot['Proportion of seats held by women in parliament']\n",
    "X3= WB.pivot.drop(['Proportion of seats held by women in parliament', 'predicted_prop_of_females', 'green_renew', 'predicted_prop_of_females2'], axis=1).values"
   ]
  },
  {
   "cell_type": "code",
   "execution_count": 118,
   "id": "d5d5848f",
   "metadata": {},
   "outputs": [
    {
     "data": {
      "text/plain": [
       "array([[2.22220423e+01, 1.64936936e+01, 7.54800000e+04],\n",
       "       [3.92146431e+01, 2.03427848e+01, 1.11520000e+05],\n",
       "       [3.18996787e+01, 6.54437420e+01, 4.66100000e+04],\n",
       "       [6.05578764e+00, 6.19651673e+00, 4.30140000e+05],\n",
       "       [5.50630532e+01, 2.62710873e+01, 8.47460000e+05]])"
      ]
     },
     "execution_count": 118,
     "metadata": {},
     "output_type": "execute_result"
    }
   ],
   "source": [
    "X3[:5]"
   ]
  },
  {
   "cell_type": "code",
   "execution_count": 119,
   "id": "8678079d",
   "metadata": {},
   "outputs": [
    {
     "data": {
      "text/html": [
       "<div>\n",
       "<style scoped>\n",
       "    .dataframe tbody tr th:only-of-type {\n",
       "        vertical-align: middle;\n",
       "    }\n",
       "\n",
       "    .dataframe tbody tr th {\n",
       "        vertical-align: top;\n",
       "    }\n",
       "\n",
       "    .dataframe thead th {\n",
       "        text-align: right;\n",
       "    }\n",
       "</style>\n",
       "<table border=\"1\" class=\"dataframe\">\n",
       "  <thead>\n",
       "    <tr style=\"text-align: right;\">\n",
       "      <th>Series Name</th>\n",
       "      <th>% Electricity from oil, gas, and coal</th>\n",
       "      <th>% Electricity from renewable resources</th>\n",
       "      <th>Proportion of seats held by women in parliament</th>\n",
       "      <th>Total greenhouse gas emissions</th>\n",
       "      <th>predicted_prop_of_females</th>\n",
       "      <th>green_renew</th>\n",
       "      <th>predicted_prop_of_females2</th>\n",
       "    </tr>\n",
       "    <tr>\n",
       "      <th>Country Name</th>\n",
       "      <th></th>\n",
       "      <th></th>\n",
       "      <th></th>\n",
       "      <th></th>\n",
       "      <th></th>\n",
       "      <th></th>\n",
       "      <th></th>\n",
       "    </tr>\n",
       "  </thead>\n",
       "  <tbody>\n",
       "    <tr>\n",
       "      <th>Austria</th>\n",
       "      <td>22.222042</td>\n",
       "      <td>16.493694</td>\n",
       "      <td>30.601093</td>\n",
       "      <td>75480.0</td>\n",
       "      <td>36.079620</td>\n",
       "      <td>1.244944e+06</td>\n",
       "      <td>38.544311</td>\n",
       "    </tr>\n",
       "    <tr>\n",
       "      <th>Belgium</th>\n",
       "      <td>39.214643</td>\n",
       "      <td>20.342785</td>\n",
       "      <td>39.333333</td>\n",
       "      <td>111520.0</td>\n",
       "      <td>36.527436</td>\n",
       "      <td>2.268627e+06</td>\n",
       "      <td>37.780037</td>\n",
       "    </tr>\n",
       "    <tr>\n",
       "      <th>Denmark</th>\n",
       "      <td>31.899679</td>\n",
       "      <td>65.443742</td>\n",
       "      <td>37.430168</td>\n",
       "      <td>46610.0</td>\n",
       "      <td>39.791817</td>\n",
       "      <td>3.050333e+06</td>\n",
       "      <td>37.305354</td>\n",
       "    </tr>\n",
       "    <tr>\n",
       "      <th>France</th>\n",
       "      <td>6.055788</td>\n",
       "      <td>6.196517</td>\n",
       "      <td>26.169844</td>\n",
       "      <td>430140.0</td>\n",
       "      <td>32.100544</td>\n",
       "      <td>2.665370e+06</td>\n",
       "      <td>25.494499</td>\n",
       "    </tr>\n",
       "    <tr>\n",
       "      <th>Germany</th>\n",
       "      <td>55.063053</td>\n",
       "      <td>26.271087</td>\n",
       "      <td>36.450079</td>\n",
       "      <td>847460.0</td>\n",
       "      <td>31.466810</td>\n",
       "      <td>2.226370e+07</td>\n",
       "      <td>34.646555</td>\n",
       "    </tr>\n",
       "  </tbody>\n",
       "</table>\n",
       "</div>"
      ],
      "text/plain": [
       "Series Name   % Electricity from oil, gas, and coal  \\\n",
       "Country Name                                          \n",
       "Austria                                   22.222042   \n",
       "Belgium                                   39.214643   \n",
       "Denmark                                   31.899679   \n",
       "France                                     6.055788   \n",
       "Germany                                   55.063053   \n",
       "\n",
       "Series Name   % Electricity from renewable resources  \\\n",
       "Country Name                                           \n",
       "Austria                                    16.493694   \n",
       "Belgium                                    20.342785   \n",
       "Denmark                                    65.443742   \n",
       "France                                      6.196517   \n",
       "Germany                                    26.271087   \n",
       "\n",
       "Series Name   Proportion of seats held by women in parliament  \\\n",
       "Country Name                                                    \n",
       "Austria                                             30.601093   \n",
       "Belgium                                             39.333333   \n",
       "Denmark                                             37.430168   \n",
       "France                                              26.169844   \n",
       "Germany                                             36.450079   \n",
       "\n",
       "Series Name   Total greenhouse gas emissions  predicted_prop_of_females  \\\n",
       "Country Name                                                              \n",
       "Austria                              75480.0                  36.079620   \n",
       "Belgium                             111520.0                  36.527436   \n",
       "Denmark                              46610.0                  39.791817   \n",
       "France                              430140.0                  32.100544   \n",
       "Germany                             847460.0                  31.466810   \n",
       "\n",
       "Series Name    green_renew  predicted_prop_of_females2  \n",
       "Country Name                                            \n",
       "Austria       1.244944e+06                   38.544311  \n",
       "Belgium       2.268627e+06                   37.780037  \n",
       "Denmark       3.050333e+06                   37.305354  \n",
       "France        2.665370e+06                   25.494499  \n",
       "Germany       2.226370e+07                   34.646555  "
      ]
     },
     "execution_count": 119,
     "metadata": {},
     "output_type": "execute_result"
    }
   ],
   "source": [
    "WB.pivot.head()"
   ]
  },
  {
   "cell_type": "code",
   "execution_count": 127,
   "id": "4eb251ab",
   "metadata": {},
   "outputs": [
    {
     "data": {
      "text/plain": [
       "LinearRegression()"
      ]
     },
     "execution_count": 127,
     "metadata": {},
     "output_type": "execute_result"
    }
   ],
   "source": [
    "#model specification\n",
    "femalereg=sklm.LinearRegression()\n",
    "femalereg.fit(X3, Y)"
   ]
  },
  {
   "cell_type": "code",
   "execution_count": 128,
   "id": "ea261386",
   "metadata": {},
   "outputs": [
    {
     "name": "stdout",
     "output_type": "stream",
     "text": [
      "Intercept: 34.97104006291263\n",
      "% Electricity from oil, gas, and coal: 0.028530259332935577\n",
      "% Electricity from renewable resources: 0.06546688937919136\n",
      "Total greenhouse gas emissions: -8.018170939788627e-06\n"
     ]
    }
   ],
   "source": [
    "# look into the regression results, if desired\n",
    "print('Intercept:', femalereg.intercept_)\n",
    "print('% Electricity from oil, gas, and coal:', femalereg.coef_[0])\n",
    "print('% Electricity from renewable resources:', femalereg.coef_[1])\n",
    "print('Total greenhouse gas emissions:', femalereg.coef_[2])"
   ]
  },
  {
   "cell_type": "code",
   "execution_count": 129,
   "id": "b8266c27",
   "metadata": {},
   "outputs": [],
   "source": [
    "# Fourth, get the predicted values and evaluate the training:\n",
    "sk_predictions=femalereg.predict(X3) # predictions for training set"
   ]
  },
  {
   "cell_type": "code",
   "execution_count": 130,
   "id": "fa369183",
   "metadata": {},
   "outputs": [
    {
     "data": {
      "text/plain": [
       "4.8664292108693505"
      ]
     },
     "execution_count": 130,
     "metadata": {},
     "output_type": "execute_result"
    }
   ],
   "source": [
    "np.sqrt(mean_squared_error(Y, sk_predictions))"
   ]
  },
  {
   "cell_type": "markdown",
   "id": "64a24b32",
   "metadata": {},
   "source": [
    "### K-fold Cross Validation"
   ]
  },
  {
   "cell_type": "code",
   "execution_count": 131,
   "id": "2bfb798f",
   "metadata": {},
   "outputs": [
    {
     "name": "stdout",
     "output_type": "stream",
     "text": [
      "(7, 3) (7,)\n",
      "(3, 3) (3,)\n"
     ]
    }
   ],
   "source": [
    "X_train, X_test, Y_train, Y_test = train_test_split(X3, Y, test_size=0.25, random_state=23)\n",
    "print(X_train.shape, Y_train.shape)\n",
    "print(X_test.shape, Y_test.shape)"
   ]
  },
  {
   "cell_type": "code",
   "execution_count": 134,
   "id": "e2c3d431",
   "metadata": {},
   "outputs": [
    {
     "data": {
      "text/plain": [
       "LinearRegression()"
      ]
     },
     "execution_count": 134,
     "metadata": {},
     "output_type": "execute_result"
    }
   ],
   "source": [
    "#training model\n",
    "femalereg2=sklm.LinearRegression()\n",
    "femalereg2.fit(X_train, Y_train)"
   ]
  },
  {
   "cell_type": "code",
   "execution_count": 137,
   "id": "101aeded",
   "metadata": {},
   "outputs": [],
   "source": [
    "#3-fold cross validation\n",
    "cvparam = KFold(3)\n",
    "scores_mse_lm =  cross_validate(femalereg2, X_train, Y_train, cv=cvparam, scoring='neg_mean_squared_error')"
   ]
  },
  {
   "cell_type": "code",
   "execution_count": 138,
   "id": "a9b07432",
   "metadata": {},
   "outputs": [
    {
     "data": {
      "text/plain": [
       "{'fit_time': array([0.00195909, 0.00097656, 0.00195289]),\n",
       " 'score_time': array([0.        , 0.0009768 , 0.00097704]),\n",
       " 'test_score': array([-768.73937345,  -12.95826873, -997.79811685])}"
      ]
     },
     "execution_count": 138,
     "metadata": {},
     "output_type": "execute_result"
    }
   ],
   "source": [
    "scores_mse_lm"
   ]
  },
  {
   "cell_type": "code",
   "execution_count": 139,
   "id": "fca5a45e",
   "metadata": {},
   "outputs": [
    {
     "data": {
      "text/plain": [
       "array([-768.73937345,  -12.95826873, -997.79811685])"
      ]
     },
     "execution_count": 139,
     "metadata": {},
     "output_type": "execute_result"
    }
   ],
   "source": [
    "scores_mse_lm['test_score']"
   ]
  },
  {
   "cell_type": "code",
   "execution_count": 140,
   "id": "d14203bf",
   "metadata": {},
   "outputs": [
    {
     "data": {
      "text/plain": [
       "24.354984151347946"
      ]
     },
     "execution_count": 140,
     "metadata": {},
     "output_type": "execute_result"
    }
   ],
   "source": [
    "np.sqrt(scores_mse_lm['test_score'].mean()*-1)"
   ]
  },
  {
   "cell_type": "code",
   "execution_count": 141,
   "id": "eb8105b7",
   "metadata": {},
   "outputs": [
    {
     "data": {
      "text/plain": [
       "13.068515971637497"
      ]
     },
     "execution_count": 141,
     "metadata": {},
     "output_type": "execute_result"
    }
   ],
   "source": [
    "lm_predictions_tt=femalereg2.predict(X_test) #use test sample and coefficients derived from trained model\n",
    "np.sqrt(np.square(lm_predictions_tt-Y_test).mean()) #compare predictions with actual values in test sample"
   ]
  },
  {
   "cell_type": "code",
   "execution_count": 144,
   "id": "6d25e45b",
   "metadata": {},
   "outputs": [],
   "source": [
    "X4 = WB.pivot[['% Electricity from oil, gas, and coal', 'Total greenhouse gas emissions', '% Electricity from renewable resources', 'green_renew']].values\n",
    "X_train2, X_test2, Y_train2, Y_test2 = train_test_split(X4, Y, test_size=0.25, random_state=7)"
   ]
  },
  {
   "cell_type": "code",
   "execution_count": 145,
   "id": "5b72ac92",
   "metadata": {},
   "outputs": [
    {
     "data": {
      "text/plain": [
       "LinearRegression()"
      ]
     },
     "execution_count": 145,
     "metadata": {},
     "output_type": "execute_result"
    }
   ],
   "source": [
    "#training model\n",
    "femalereg3=sklm.LinearRegression()\n",
    "femalereg3.fit(X_train2, Y_train2)"
   ]
  },
  {
   "cell_type": "code",
   "execution_count": 149,
   "id": "445fed63",
   "metadata": {},
   "outputs": [],
   "source": [
    "#3-fold cross validation\n",
    "cvparam = KFold(3)\n",
    "scores_mse_lm2 =  cross_validate(femalereg3, X_train2, Y_train2, cv=cvparam, scoring='neg_mean_squared_error')"
   ]
  },
  {
   "cell_type": "code",
   "execution_count": 150,
   "id": "056e375c",
   "metadata": {},
   "outputs": [
    {
     "data": {
      "text/plain": [
       "30.948500411308192"
      ]
     },
     "execution_count": 150,
     "metadata": {},
     "output_type": "execute_result"
    }
   ],
   "source": [
    "np.sqrt(scores_mse_lm2['test_score'].mean()*-1)"
   ]
  },
  {
   "cell_type": "code",
   "execution_count": 151,
   "id": "ea9f6161",
   "metadata": {},
   "outputs": [
    {
     "data": {
      "text/plain": [
       "7.096705365333258"
      ]
     },
     "execution_count": 151,
     "metadata": {},
     "output_type": "execute_result"
    }
   ],
   "source": [
    "lm_predictions_tt2=femalereg3.predict(X_test2) #use test sample and coefficients derived from trained model\n",
    "np.sqrt(np.square(lm_predictions_tt2-Y_test2).mean()) #compare predictions with actual values in test sample"
   ]
  },
  {
   "cell_type": "markdown",
   "id": "df2b1863",
   "metadata": {},
   "source": [
    "Again it seems that the pressence of the interaction term improves our prediction, this time using scikit-learn. "
   ]
  },
  {
   "cell_type": "markdown",
   "id": "b77eb598",
   "metadata": {},
   "source": [
    "# Exercise-4"
   ]
  },
  {
   "cell_type": "code",
   "execution_count": 158,
   "id": "2a4d31cb",
   "metadata": {},
   "outputs": [
    {
     "data": {
      "text/html": [
       "<div>\n",
       "<style scoped>\n",
       "    .dataframe tbody tr th:only-of-type {\n",
       "        vertical-align: middle;\n",
       "    }\n",
       "\n",
       "    .dataframe tbody tr th {\n",
       "        vertical-align: top;\n",
       "    }\n",
       "\n",
       "    .dataframe thead th {\n",
       "        text-align: right;\n",
       "    }\n",
       "</style>\n",
       "<table border=\"1\" class=\"dataframe\">\n",
       "  <thead>\n",
       "    <tr style=\"text-align: right;\">\n",
       "      <th>Series Name</th>\n",
       "      <th>% Electricity from oil, gas, and coal</th>\n",
       "      <th>% Electricity from renewable resources</th>\n",
       "      <th>Proportion of seats held by women in parliament</th>\n",
       "      <th>Total greenhouse gas emissions</th>\n",
       "    </tr>\n",
       "    <tr>\n",
       "      <th>Country Name</th>\n",
       "      <th></th>\n",
       "      <th></th>\n",
       "      <th></th>\n",
       "      <th></th>\n",
       "    </tr>\n",
       "  </thead>\n",
       "  <tbody>\n",
       "    <tr>\n",
       "      <th>Austria</th>\n",
       "      <td>22.222042</td>\n",
       "      <td>16.493694</td>\n",
       "      <td>30.601093</td>\n",
       "      <td>75480.0</td>\n",
       "    </tr>\n",
       "    <tr>\n",
       "      <th>Belgium</th>\n",
       "      <td>39.214643</td>\n",
       "      <td>20.342785</td>\n",
       "      <td>39.333333</td>\n",
       "      <td>111520.0</td>\n",
       "    </tr>\n",
       "    <tr>\n",
       "      <th>Denmark</th>\n",
       "      <td>31.899679</td>\n",
       "      <td>65.443742</td>\n",
       "      <td>37.430168</td>\n",
       "      <td>46610.0</td>\n",
       "    </tr>\n",
       "    <tr>\n",
       "      <th>France</th>\n",
       "      <td>6.055788</td>\n",
       "      <td>6.196517</td>\n",
       "      <td>26.169844</td>\n",
       "      <td>430140.0</td>\n",
       "    </tr>\n",
       "    <tr>\n",
       "      <th>Germany</th>\n",
       "      <td>55.063053</td>\n",
       "      <td>26.271087</td>\n",
       "      <td>36.450079</td>\n",
       "      <td>847460.0</td>\n",
       "    </tr>\n",
       "    <tr>\n",
       "      <th>Italy</th>\n",
       "      <td>60.246766</td>\n",
       "      <td>22.505878</td>\n",
       "      <td>30.952381</td>\n",
       "      <td>416150.0</td>\n",
       "    </tr>\n",
       "    <tr>\n",
       "      <th>Netherlands</th>\n",
       "      <td>82.233124</td>\n",
       "      <td>12.357591</td>\n",
       "      <td>37.333333</td>\n",
       "      <td>188330.0</td>\n",
       "    </tr>\n",
       "    <tr>\n",
       "      <th>Spain</th>\n",
       "      <td>44.067144</td>\n",
       "      <td>24.820009</td>\n",
       "      <td>41.142857</td>\n",
       "      <td>325510.0</td>\n",
       "    </tr>\n",
       "    <tr>\n",
       "      <th>Sweden</th>\n",
       "      <td>1.085030</td>\n",
       "      <td>16.754050</td>\n",
       "      <td>43.553009</td>\n",
       "      <td>50050.0</td>\n",
       "    </tr>\n",
       "    <tr>\n",
       "      <th>United Kingdom</th>\n",
       "      <td>53.180856</td>\n",
       "      <td>22.970305</td>\n",
       "      <td>29.384615</td>\n",
       "      <td>497740.0</td>\n",
       "    </tr>\n",
       "  </tbody>\n",
       "</table>\n",
       "</div>"
      ],
      "text/plain": [
       "Series Name     % Electricity from oil, gas, and coal  \\\n",
       "Country Name                                            \n",
       "Austria                                     22.222042   \n",
       "Belgium                                     39.214643   \n",
       "Denmark                                     31.899679   \n",
       "France                                       6.055788   \n",
       "Germany                                     55.063053   \n",
       "Italy                                       60.246766   \n",
       "Netherlands                                 82.233124   \n",
       "Spain                                       44.067144   \n",
       "Sweden                                       1.085030   \n",
       "United Kingdom                              53.180856   \n",
       "\n",
       "Series Name     % Electricity from renewable resources  \\\n",
       "Country Name                                             \n",
       "Austria                                      16.493694   \n",
       "Belgium                                      20.342785   \n",
       "Denmark                                      65.443742   \n",
       "France                                        6.196517   \n",
       "Germany                                      26.271087   \n",
       "Italy                                        22.505878   \n",
       "Netherlands                                  12.357591   \n",
       "Spain                                        24.820009   \n",
       "Sweden                                       16.754050   \n",
       "United Kingdom                               22.970305   \n",
       "\n",
       "Series Name     Proportion of seats held by women in parliament  \\\n",
       "Country Name                                                      \n",
       "Austria                                               30.601093   \n",
       "Belgium                                               39.333333   \n",
       "Denmark                                               37.430168   \n",
       "France                                                26.169844   \n",
       "Germany                                               36.450079   \n",
       "Italy                                                 30.952381   \n",
       "Netherlands                                           37.333333   \n",
       "Spain                                                 41.142857   \n",
       "Sweden                                                43.553009   \n",
       "United Kingdom                                        29.384615   \n",
       "\n",
       "Series Name     Total greenhouse gas emissions  \n",
       "Country Name                                    \n",
       "Austria                                75480.0  \n",
       "Belgium                               111520.0  \n",
       "Denmark                                46610.0  \n",
       "France                                430140.0  \n",
       "Germany                               847460.0  \n",
       "Italy                                 416150.0  \n",
       "Netherlands                           188330.0  \n",
       "Spain                                 325510.0  \n",
       "Sweden                                 50050.0  \n",
       "United Kingdom                        497740.0  "
      ]
     },
     "execution_count": 158,
     "metadata": {},
     "output_type": "execute_result"
    }
   ],
   "source": [
    "WB2 = pd.read_csv('WorldBank_Assignment3_Data.csv')\n",
    "WB.pivot2 = WB2.pivot_table(index='Country Name', \n",
    "                         columns='Series Name', \n",
    "                         values='2015 [YR2015]')\n",
    "WB.pivot2.rename(columns = {'Electricity production from oil, gas and coal sources (% of total)':'% Electricity from oil, gas, and coal','Electricity production from renewable sources, excluding hydroelectric (% of total)':'% Electricity from renewable resources', 'Proportion of seats held by women in national parliaments (%)':'Proportion of seats held by women in parliament', 'Total greenhouse gas emissions (kt of CO2 equivalent)':'Total greenhouse gas emissions'}, inplace = True)\n",
    "WB.pivot2"
   ]
  },
  {
   "cell_type": "code",
   "execution_count": 160,
   "id": "3f6f2ba5",
   "metadata": {},
   "outputs": [],
   "source": [
    "# First, scale the predictors:\n",
    "Xp=preprocessing.scale(WB.pivot2[['% Electricity from oil, gas, and coal', '% Electricity from renewable resources', 'Total greenhouse gas emissions']]).astype('float64')\n",
    "Yp=preprocessing.scale(WB.pivot2['Proportion of seats held by women in parliament']).astype('float64')\n",
    "# not scaling the dependent variable will help comparison with the earlier models\n",
    "Ypns=(WB.pivot2['Proportion of seats held by women in parliament']).astype('float64')"
   ]
  },
  {
   "cell_type": "code",
   "execution_count": 161,
   "id": "66408874",
   "metadata": {},
   "outputs": [
    {
     "name": "stdout",
     "output_type": "stream",
     "text": [
      "Scaled version:\n",
      "(7, 3) (7,)\n",
      "(3, 3) (3,)\n",
      "Not scaled version:\n",
      "(7, 3) (7,)\n",
      "(3, 3) (3,)\n"
     ]
    }
   ],
   "source": [
    "# Set aside a portion (e.g., 25%) of data for out-of-training-sample testing.\n",
    "\n",
    "# to use the scaled Sales DV:\n",
    "X3p_train, X3p_test, Y3p_train, Y3p_test = train_test_split(Xp, Yp, \\\n",
    "                                                            test_size=0.25, random_state=7)\n",
    "\n",
    "#using the unscaled Sales DV\n",
    "X3p_train, X3p_test, Y3pns_train, Y3pns_test = train_test_split(Xp, Ypns, \\\n",
    "                                                            test_size=0.25, random_state=7)\n",
    "print(\"Scaled version:\")\n",
    "print(X3p_train.shape, Y3p_train.shape)\n",
    "print(X3p_test.shape, Y3p_test.shape)\n",
    "print(\"Not scaled version:\")\n",
    "print(X3p_train.shape, Y3pns_train.shape)\n",
    "print(X3p_test.shape, Y3pns_test.shape)"
   ]
  },
  {
   "cell_type": "code",
   "execution_count": 162,
   "id": "3ed3b096",
   "metadata": {},
   "outputs": [],
   "source": [
    "# Define the KNN model parameters\n",
    "# use 4 nearest neighbors weighted uniformly\n",
    "knn_rcv = KNeighborsRegressor(n_neighbors=4, weights='uniform')\n",
    "knn_rcv_ns = KNeighborsRegressor(n_neighbors=4, weights='uniform') "
   ]
  },
  {
   "cell_type": "code",
   "execution_count": 163,
   "id": "59e5cf89",
   "metadata": {},
   "outputs": [
    {
     "data": {
      "text/plain": [
       "KNeighborsRegressor(n_neighbors=4)"
      ]
     },
     "execution_count": 163,
     "metadata": {},
     "output_type": "execute_result"
    }
   ],
   "source": [
    "# fit the KNN model using training sample\n",
    "knn_rcv.fit(X3p_train, Y3p_train)\n",
    "knn_rcv_ns.fit(X3p_train, Y3pns_train)"
   ]
  },
  {
   "cell_type": "code",
   "execution_count": 164,
   "id": "5edeeed2",
   "metadata": {},
   "outputs": [],
   "source": [
    "# how does the model perform in training?\n",
    "#get the predictions using training data\n",
    "knn_prediction_reg=knn_rcv.predict(X3p_train)\n",
    "knn_prediction_reg_ns=knn_rcv_ns.predict(X3p_train) "
   ]
  },
  {
   "cell_type": "code",
   "execution_count": 165,
   "id": "607272ca",
   "metadata": {},
   "outputs": [
    {
     "data": {
      "text/plain": [
       "0.8603731961320107"
      ]
     },
     "execution_count": 165,
     "metadata": {},
     "output_type": "execute_result"
    }
   ],
   "source": [
    "np.sqrt(np.square(Y3p_train-knn_prediction_reg).mean()) "
   ]
  },
  {
   "cell_type": "code",
   "execution_count": 166,
   "id": "ab805d96",
   "metadata": {},
   "outputs": [
    {
     "data": {
      "text/plain": [
       "4.615679956063458"
      ]
     },
     "execution_count": 166,
     "metadata": {},
     "output_type": "execute_result"
    }
   ],
   "source": [
    "np.sqrt(np.square(Y3pns_train-knn_prediction_reg_ns).mean())"
   ]
  },
  {
   "cell_type": "code",
   "execution_count": 167,
   "id": "359c3873",
   "metadata": {},
   "outputs": [
    {
     "data": {
      "text/plain": [
       "4.615679956063458"
      ]
     },
     "execution_count": 167,
     "metadata": {},
     "output_type": "execute_result"
    }
   ],
   "source": [
    "import statsmodels.api as sm\n",
    "sm.tools.eval_measures.rmse(Y3pns_train, knn_prediction_reg_ns, axis=0)"
   ]
  },
  {
   "cell_type": "code",
   "execution_count": 168,
   "id": "285bb554",
   "metadata": {},
   "outputs": [
    {
     "name": "stdout",
     "output_type": "stream",
     "text": [
      "\n",
      "Regression statistics\n",
      "\n",
      "                      Mean Error (ME) : -0.5495\n",
      "       Root Mean Squared Error (RMSE) : 4.6157\n",
      "            Mean Absolute Error (MAE) : 3.7451\n",
      "          Mean Percentage Error (MPE) : -3.6703\n",
      "Mean Absolute Percentage Error (MAPE) : 11.8809\n"
     ]
    }
   ],
   "source": [
    "regressionSummary(Y3pns_train, knn_prediction_reg_ns)"
   ]
  },
  {
   "cell_type": "code",
   "execution_count": 169,
   "id": "c6dfe8ff",
   "metadata": {},
   "outputs": [
    {
     "name": "stdout",
     "output_type": "stream",
     "text": [
      "\n",
      "Regression statistics\n",
      "\n",
      "                      Mean Error (ME) : -0.1024\n",
      "       Root Mean Squared Error (RMSE) : 0.8604\n",
      "            Mean Absolute Error (MAE) : 0.6981\n",
      "          Mean Percentage Error (MPE) : 94.0431\n",
      "Mean Absolute Percentage Error (MAPE) : 94.0431\n"
     ]
    }
   ],
   "source": [
    "regressionSummary(Y3p_train, knn_prediction_reg)"
   ]
  },
  {
   "cell_type": "code",
   "execution_count": 170,
   "id": "91efc36c",
   "metadata": {},
   "outputs": [
    {
     "data": {
      "text/plain": [
       "count    10.000000\n",
       "mean     35.235071\n",
       "std       5.654934\n",
       "min      26.169844\n",
       "25%      30.688915\n",
       "50%      36.891706\n",
       "75%      38.857542\n",
       "max      43.553009\n",
       "Name: Proportion of seats held by women in parliament, dtype: float64"
      ]
     },
     "execution_count": 170,
     "metadata": {},
     "output_type": "execute_result"
    }
   ],
   "source": [
    "WB.pivot2['Proportion of seats held by women in parliament'].describe()"
   ]
  },
  {
   "cell_type": "code",
   "execution_count": 171,
   "id": "78d88570",
   "metadata": {},
   "outputs": [],
   "source": [
    "#to rescale the predicted values, we need to first fit the original scaler:\n",
    "data = WB.pivot2['Proportion of seats held by women in parliament'].values\n",
    "scaler = preprocessing.StandardScaler()\n",
    "scaler.fit(data.reshape(-1, 1)) #reshaping is needed for 1-dimensional arrays\n",
    "scaled = scaler.transform(data.reshape(-1, 1))\n",
    "# for inverse transformation\n",
    "inversedpredictions = scaler.inverse_transform(knn_prediction_reg)"
   ]
  },
  {
   "cell_type": "code",
   "execution_count": 172,
   "id": "beb292e2",
   "metadata": {},
   "outputs": [
    {
     "name": "stdout",
     "output_type": "stream",
     "text": [
      "\n",
      "Regression statistics\n",
      "\n",
      "                      Mean Error (ME) : -35.8541\n",
      "       Root Mean Squared Error (RMSE) : 35.8776\n",
      "            Mean Absolute Error (MAE) : 35.8541\n",
      "          Mean Percentage Error (MPE) : -5028.1836\n",
      "Mean Absolute Percentage Error (MAPE) : 6618.6548\n"
     ]
    }
   ],
   "source": [
    "regressionSummary(Y3p_train,inversedpredictions)"
   ]
  },
  {
   "cell_type": "code",
   "execution_count": 173,
   "id": "1a098ca7",
   "metadata": {},
   "outputs": [],
   "source": [
    "# how does the model perform when there is variation on different training samples?\n",
    "cvparam = KFold(3)\n",
    "scores_mse_knn =  cross_validate(knn_rcv_ns, X3p_train, Y3pns_train, \\\n",
    "                                 cv=cvparam, scoring='neg_mean_squared_error') #3-fold"
   ]
  },
  {
   "cell_type": "code",
   "execution_count": 174,
   "id": "631c0a60",
   "metadata": {},
   "outputs": [
    {
     "data": {
      "text/plain": [
       "array([-18.60402614, -59.92470109,  -8.51274318])"
      ]
     },
     "execution_count": 174,
     "metadata": {},
     "output_type": "execute_result"
    }
   ],
   "source": [
    "# how does the model perform when there is variation on different training samples?\n",
    "scores_mse_knn['test_score']"
   ]
  },
  {
   "cell_type": "code",
   "execution_count": 175,
   "id": "638758b9",
   "metadata": {},
   "outputs": [
    {
     "data": {
      "text/plain": [
       "5.386448131202685"
      ]
     },
     "execution_count": 175,
     "metadata": {},
     "output_type": "execute_result"
    }
   ],
   "source": [
    "np.sqrt(scores_mse_knn['test_score'].mean()*-1) #Multiplying by -1 to remove negativity in MSE"
   ]
  },
  {
   "cell_type": "code",
   "execution_count": 176,
   "id": "a5a0c9d5",
   "metadata": {},
   "outputs": [],
   "source": [
    "# How does the trained model do for the testing sample?\n",
    "knn_prediction_reg_tt=knn_rcv_ns.predict(X3p_test) #get the predictions using test data"
   ]
  },
  {
   "cell_type": "code",
   "execution_count": 177,
   "id": "cf2e21ba",
   "metadata": {},
   "outputs": [
    {
     "data": {
      "text/plain": [
       "6.755142823908636"
      ]
     },
     "execution_count": 177,
     "metadata": {},
     "output_type": "execute_result"
    }
   ],
   "source": [
    "#average error of prediction in training data.\n",
    "np.sqrt(np.square(knn_prediction_reg_tt-Y3pns_test).mean())"
   ]
  },
  {
   "cell_type": "code",
   "execution_count": 178,
   "id": "43470013",
   "metadata": {},
   "outputs": [
    {
     "name": "stdout",
     "output_type": "stream",
     "text": [
      "\n",
      "Regression statistics\n",
      "\n",
      "                      Mean Error (ME) : 0.0975\n",
      "       Root Mean Squared Error (RMSE) : 6.7551\n",
      "            Mean Absolute Error (MAE) : 6.2660\n",
      "          Mean Percentage Error (MPE) : -2.7010\n",
      "Mean Absolute Percentage Error (MAPE) : 17.3121\n"
     ]
    }
   ],
   "source": [
    "regressionSummary(Y3pns_test,knn_prediction_reg_tt)"
   ]
  },
  {
   "cell_type": "markdown",
   "id": "e6ef9049",
   "metadata": {},
   "source": [
    "I decided to replicate the methods used in class last week and perform a KNN approach with 4 neighbors. My linear models had lower RMSE so these more advanced approaches did not improve upon the prediction. I believe once I include more of the data the methods used with scikit-learn will have a better chance to improve upon prediction, there are simply too few data points for these other methods."
   ]
  },
  {
   "cell_type": "code",
   "execution_count": null,
   "id": "7dbd26e7",
   "metadata": {},
   "outputs": [],
   "source": []
  },
  {
   "cell_type": "code",
   "execution_count": null,
   "id": "36bca50f",
   "metadata": {},
   "outputs": [],
   "source": []
  },
  {
   "cell_type": "code",
   "execution_count": null,
   "id": "9cef0f47",
   "metadata": {},
   "outputs": [],
   "source": []
  }
 ],
 "metadata": {
  "kernelspec": {
   "display_name": "Python 3",
   "language": "python",
   "name": "python3"
  },
  "language_info": {
   "codemirror_mode": {
    "name": "ipython",
    "version": 3
   },
   "file_extension": ".py",
   "mimetype": "text/x-python",
   "name": "python",
   "nbconvert_exporter": "python",
   "pygments_lexer": "ipython3",
   "version": "3.8.8"
  }
 },
 "nbformat": 4,
 "nbformat_minor": 5
}
