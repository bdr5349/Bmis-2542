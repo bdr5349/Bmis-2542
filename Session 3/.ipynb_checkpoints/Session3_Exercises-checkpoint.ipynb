{
 "cells": [
  {
   "cell_type": "markdown",
   "id": "1e4b2961",
   "metadata": {},
   "source": [
    "# Exercise-1"
   ]
  },
  {
   "cell_type": "markdown",
   "id": "68ddd703",
   "metadata": {},
   "source": [
    "* Brian O'Connell\n",
    "* <span style=\"background-color:#33FFF5\">brr99@pitt.edu</span> \n",
    "---"
   ]
  },
  {
   "cell_type": "code",
   "execution_count": 2,
   "id": "19012006",
   "metadata": {},
   "outputs": [],
   "source": [
    "# load required modules\n",
    "import pandas as pd\n",
    "import numpy as np\n",
    "import datetime"
   ]
  },
  {
   "cell_type": "code",
   "execution_count": 3,
   "id": "68a50cf3",
   "metadata": {},
   "outputs": [],
   "source": [
    "dfInvestors = pd.DataFrame({'INo':['I1', 'I2', 'I3'],'IName':['Anne', 'John', 'Elizabeth'],'PhoneNo':['412-456-4567', '585-673-4572', '763-567-8953']})\n",
    "dfSecurities =  pd.DataFrame({'SNo':['S1', 'S2', 'S3', 'S4', 'S5', 'S6'], 'SName':['Microsoft', 'Kodak', 'IBM','Xerox', 'Amazon', 'Yahoo'], 'Price':[78, 45, 68, 123, 34,78]})\n",
    "dfHoldings = pd.DataFrame({'INo':['I1','I1','I1','I1','I2','I2','I3','I3','I3'],'SNo':['S1','S2','S3','S4','S2','S6','S1','S3','S4'],'Qty':[500, 2000, 90,200,917,324,1000,346,780]})"
   ]
  },
  {
   "cell_type": "code",
   "execution_count": 4,
   "id": "194b65a6",
   "metadata": {},
   "outputs": [
    {
     "data": {
      "text/html": [
       "<div>\n",
       "<style scoped>\n",
       "    .dataframe tbody tr th:only-of-type {\n",
       "        vertical-align: middle;\n",
       "    }\n",
       "\n",
       "    .dataframe tbody tr th {\n",
       "        vertical-align: top;\n",
       "    }\n",
       "\n",
       "    .dataframe thead th {\n",
       "        text-align: right;\n",
       "    }\n",
       "</style>\n",
       "<table border=\"1\" class=\"dataframe\">\n",
       "  <thead>\n",
       "    <tr style=\"text-align: right;\">\n",
       "      <th></th>\n",
       "      <th>INo</th>\n",
       "      <th>IName</th>\n",
       "      <th>PhoneNo</th>\n",
       "      <th>SNo</th>\n",
       "      <th>Qty</th>\n",
       "      <th>SName</th>\n",
       "      <th>Price</th>\n",
       "    </tr>\n",
       "  </thead>\n",
       "  <tbody>\n",
       "    <tr>\n",
       "      <th>0</th>\n",
       "      <td>I1</td>\n",
       "      <td>Anne</td>\n",
       "      <td>412-456-4567</td>\n",
       "      <td>S1</td>\n",
       "      <td>500</td>\n",
       "      <td>Microsoft</td>\n",
       "      <td>78</td>\n",
       "    </tr>\n",
       "    <tr>\n",
       "      <th>1</th>\n",
       "      <td>I3</td>\n",
       "      <td>Elizabeth</td>\n",
       "      <td>763-567-8953</td>\n",
       "      <td>S1</td>\n",
       "      <td>1000</td>\n",
       "      <td>Microsoft</td>\n",
       "      <td>78</td>\n",
       "    </tr>\n",
       "    <tr>\n",
       "      <th>2</th>\n",
       "      <td>I1</td>\n",
       "      <td>Anne</td>\n",
       "      <td>412-456-4567</td>\n",
       "      <td>S2</td>\n",
       "      <td>2000</td>\n",
       "      <td>Kodak</td>\n",
       "      <td>45</td>\n",
       "    </tr>\n",
       "    <tr>\n",
       "      <th>3</th>\n",
       "      <td>I2</td>\n",
       "      <td>John</td>\n",
       "      <td>585-673-4572</td>\n",
       "      <td>S2</td>\n",
       "      <td>917</td>\n",
       "      <td>Kodak</td>\n",
       "      <td>45</td>\n",
       "    </tr>\n",
       "    <tr>\n",
       "      <th>4</th>\n",
       "      <td>I1</td>\n",
       "      <td>Anne</td>\n",
       "      <td>412-456-4567</td>\n",
       "      <td>S3</td>\n",
       "      <td>90</td>\n",
       "      <td>IBM</td>\n",
       "      <td>68</td>\n",
       "    </tr>\n",
       "    <tr>\n",
       "      <th>5</th>\n",
       "      <td>I3</td>\n",
       "      <td>Elizabeth</td>\n",
       "      <td>763-567-8953</td>\n",
       "      <td>S3</td>\n",
       "      <td>346</td>\n",
       "      <td>IBM</td>\n",
       "      <td>68</td>\n",
       "    </tr>\n",
       "    <tr>\n",
       "      <th>6</th>\n",
       "      <td>I1</td>\n",
       "      <td>Anne</td>\n",
       "      <td>412-456-4567</td>\n",
       "      <td>S4</td>\n",
       "      <td>200</td>\n",
       "      <td>Xerox</td>\n",
       "      <td>123</td>\n",
       "    </tr>\n",
       "    <tr>\n",
       "      <th>7</th>\n",
       "      <td>I3</td>\n",
       "      <td>Elizabeth</td>\n",
       "      <td>763-567-8953</td>\n",
       "      <td>S4</td>\n",
       "      <td>780</td>\n",
       "      <td>Xerox</td>\n",
       "      <td>123</td>\n",
       "    </tr>\n",
       "    <tr>\n",
       "      <th>8</th>\n",
       "      <td>I2</td>\n",
       "      <td>John</td>\n",
       "      <td>585-673-4572</td>\n",
       "      <td>S6</td>\n",
       "      <td>324</td>\n",
       "      <td>Yahoo</td>\n",
       "      <td>78</td>\n",
       "    </tr>\n",
       "  </tbody>\n",
       "</table>\n",
       "</div>"
      ],
      "text/plain": [
       "  INo      IName       PhoneNo SNo   Qty      SName  Price\n",
       "0  I1       Anne  412-456-4567  S1   500  Microsoft     78\n",
       "1  I3  Elizabeth  763-567-8953  S1  1000  Microsoft     78\n",
       "2  I1       Anne  412-456-4567  S2  2000      Kodak     45\n",
       "3  I2       John  585-673-4572  S2   917      Kodak     45\n",
       "4  I1       Anne  412-456-4567  S3    90        IBM     68\n",
       "5  I3  Elizabeth  763-567-8953  S3   346        IBM     68\n",
       "6  I1       Anne  412-456-4567  S4   200      Xerox    123\n",
       "7  I3  Elizabeth  763-567-8953  S4   780      Xerox    123\n",
       "8  I2       John  585-673-4572  S6   324      Yahoo     78"
      ]
     },
     "execution_count": 4,
     "metadata": {},
     "output_type": "execute_result"
    }
   ],
   "source": [
    "dfMerged = pd.merge(dfInvestors, dfHoldings, on='INo')\n",
    "dfMerged = pd.merge(dfMerged, dfSecurities, on = 'SNo')\n",
    "dfMerged"
   ]
  },
  {
   "cell_type": "markdown",
   "id": "b5cdd513",
   "metadata": {},
   "source": [
    "Anne has 78 shares of S1. John has 78 shares of Yahoo"
   ]
  },
  {
   "cell_type": "markdown",
   "id": "4086acc2",
   "metadata": {},
   "source": [
    "# Exercise-2"
   ]
  },
  {
   "cell_type": "code",
   "execution_count": null,
   "id": "8dcd13df",
   "metadata": {},
   "outputs": [],
   "source": []
  }
 ],
 "metadata": {
  "kernelspec": {
   "display_name": "Python 3",
   "language": "python",
   "name": "python3"
  },
  "language_info": {
   "codemirror_mode": {
    "name": "ipython",
    "version": 3
   },
   "file_extension": ".py",
   "mimetype": "text/x-python",
   "name": "python",
   "nbconvert_exporter": "python",
   "pygments_lexer": "ipython3",
   "version": "3.8.8"
  }
 },
 "nbformat": 4,
 "nbformat_minor": 5
}
